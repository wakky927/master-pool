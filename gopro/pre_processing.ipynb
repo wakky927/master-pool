{
 "cells": [
  {
   "cell_type": "code",
   "execution_count": 37,
   "metadata": {
    "collapsed": true,
    "pycharm": {
     "name": "#%%\n"
    }
   },
   "outputs": [],
   "source": [
    "import cv2\n",
    "import numpy as np\n",
    "from tqdm import tqdm"
   ]
  },
  {
   "cell_type": "code",
   "execution_count": 38,
   "outputs": [],
   "source": [
    "IN_DIR = \"E:\\\\M2\\\\result\\\\pool\\\\gopro\\\\tracer_pp\\\\\"\n",
    "OUT_DIR = \"E:\\\\M2\\\\result\\\\pool\\\\gopro\\\\\"\n",
    "sub_dir_list = [\n",
    "    \"GX010036\",\n",
    "    \"GX010037\",\n",
    "    \"GX010038\",\n",
    "    \"GX010039\",\n",
    "    \"GX010040\",\n",
    "]"
   ],
   "metadata": {
    "collapsed": false,
    "pycharm": {
     "name": "#%%\n"
    }
   }
  },
  {
   "cell_type": "code",
   "execution_count": 39,
   "outputs": [],
   "source": [
    "import random\n",
    "\n",
    "\n",
    "random.seed(1234)\n",
    "\n",
    "def put_color_to_objects(src_img, label_table):\n",
    "    label_img = np.zeros_like(src_img)\n",
    "    for label in range(1, label_table.max()+1):\n",
    "        label_group_index = np.where(label_table == label)\n",
    "        label_img[label_group_index] = random.sample(range(255), k=3)\n",
    "\n",
    "    return label_img"
   ],
   "metadata": {
    "collapsed": false,
    "pycharm": {
     "name": "#%%\n"
    }
   }
  },
  {
   "cell_type": "code",
   "execution_count": 40,
   "outputs": [],
   "source": [
    "def area_threshold_img(label_table, stats_table):\n",
    "    area = stats_table[:, -1]\n",
    "\n",
    "    for i in range(len(area)):\n",
    "        if area[i] < 1000:\n",
    "            label_table[label_table == i] = 0\n",
    "\n",
    "    return label_table"
   ],
   "metadata": {
    "collapsed": false,
    "pycharm": {
     "name": "#%%\n"
    }
   }
  },
  {
   "cell_type": "code",
   "execution_count": 41,
   "outputs": [],
   "source": [
    "def preprocessing(img):\n",
    "    img = img[:, :, 2]\n",
    "    _, img = cv2.threshold(img, 180, 255, cv2.THRESH_BINARY)\n",
    "    _, labels, stats, centroids = cv2.connectedComponentsWithStats(img)\n",
    "    centroids = np.hstack([centroids, stats])\n",
    "    centroids = centroids[centroids[:, -1] > 1000]\n",
    "\n",
    "    img = put_color_to_objects(cv2.cvtColor(img, cv2.COLOR_GRAY2RGB), area_threshold_img(labels, stats))\n",
    "\n",
    "    return img, centroids[1:]"
   ],
   "metadata": {
    "collapsed": false,
    "pycharm": {
     "name": "#%%\n"
    }
   }
  },
  {
   "cell_type": "code",
   "execution_count": null,
   "outputs": [
    {
     "name": "stderr",
     "output_type": "stream",
     "text": [
      "  0%|          | 1/5001 [00:16<22:44:33, 16.37s/it]"
     ]
    }
   ],
   "source": [
    "for d in range(5):\n",
    "    for i in tqdm(range(0, 5001)):\n",
    "        dst, res = preprocessing(img=cv2.imread(IN_DIR + sub_dir_list[d] + \"\\\\\" + f\"{i}.bmp\", 1))\n",
    "        cv2.imwrite(OUT_DIR + \"img\\\\\" + sub_dir_list[d] + \"\\\\\" + f\"{i}.png\", dst)\n",
    "        np.savetxt(OUT_DIR + \"pp\\\\\" + sub_dir_list[d] + \"\\\\\" + f\"pp_{i}.csv\", res, delimiter=',')"
   ],
   "metadata": {
    "collapsed": false,
    "pycharm": {
     "name": "#%%\n",
     "is_executing": true
    }
   }
  },
  {
   "cell_type": "code",
   "execution_count": null,
   "outputs": [],
   "source": [],
   "metadata": {
    "collapsed": false,
    "pycharm": {
     "name": "#%%\n",
     "is_executing": true
    }
   }
  }
 ],
 "metadata": {
  "kernelspec": {
   "display_name": "Python 3",
   "language": "python",
   "name": "python3"
  },
  "language_info": {
   "codemirror_mode": {
    "name": "ipython",
    "version": 2
   },
   "file_extension": ".py",
   "mimetype": "text/x-python",
   "name": "python",
   "nbconvert_exporter": "python",
   "pygments_lexer": "ipython2",
   "version": "2.7.6"
  }
 },
 "nbformat": 4,
 "nbformat_minor": 0
}