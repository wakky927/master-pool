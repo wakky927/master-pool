{
 "cells": [
  {
   "cell_type": "code",
   "execution_count": 14,
   "metadata": {
    "collapsed": true,
    "pycharm": {
     "name": "#%%\n"
    }
   },
   "outputs": [],
   "source": [
    "import cv2\n",
    "from tqdm import tqdm"
   ]
  },
  {
   "cell_type": "markdown",
   "source": [
    "### PP tracer\n",
    "- GX010036\n",
    "- GX010037\n",
    "- GX010038\n",
    "- GX010039\n",
    "- GX010040\n",
    "\n",
    "### Iwasa tracer\n",
    "- GX010041\n",
    "- GX010042\n",
    "- GX010043\n",
    "- GX010044\n",
    "- GX010045"
   ],
   "metadata": {
    "collapsed": false,
    "pycharm": {
     "name": "#%% md\n"
    }
   }
  },
  {
   "cell_type": "code",
   "execution_count": 15,
   "outputs": [],
   "source": [
    "IN_DIR = \"E:\\\\M2\\\\original\\\\pool\\\\100GOPRO\\\\\"\n",
    "OUT_DIR = \"E:\\\\M2\\\\result\\\\pool\\\\gopro\\\\tracer_pp\\\\\""
   ],
   "metadata": {
    "collapsed": false,
    "pycharm": {
     "name": "#%%\n"
    }
   }
  },
  {
   "cell_type": "code",
   "execution_count": 16,
   "outputs": [],
   "source": [
    "pp_path = [\"GX010036\", \"GX010037\", \"GX010038\", \"GX010039\", \"GX010040\"]\n",
    "iwasa_path = [\"GX010041\", \"GX010042\", \"GX010043\", \"GX010044\", \"GX010045\"]"
   ],
   "metadata": {
    "collapsed": false,
    "pycharm": {
     "name": "#%%\n"
    }
   }
  },
  {
   "cell_type": "code",
   "execution_count": 17,
   "outputs": [
    {
     "name": "stderr",
     "output_type": "stream",
     "text": [
      "100%|██████████| 5/5 [3:48:58<00:00, 2747.75s/it]  \n"
     ]
    }
   ],
   "source": [
    "for path in tqdm(pp_path):\n",
    "    cap = cv2.VideoCapture(IN_DIR + path + \".MP4\")\n",
    "    digit = len(str(int(cap.get(cv2.CAP_PROP_FRAME_COUNT))))\n",
    "\n",
    "    n = 0\n",
    "    while True:\n",
    "        ret, frame = cap.read()\n",
    "        if ret:\n",
    "                cv2.imwrite(OUT_DIR + path + f\"\\\\{n}.bmp\", frame)\n",
    "                n += 1\n",
    "        else:\n",
    "            break"
   ],
   "metadata": {
    "collapsed": false,
    "pycharm": {
     "name": "#%%\n"
    }
   }
  },
  {
   "cell_type": "code",
   "execution_count": 18,
   "outputs": [],
   "source": [
    "OUT_DIR = \"E:\\\\M2\\\\result\\\\pool\\\\gopro\\\\tracer_iwasa\\\\\""
   ],
   "metadata": {
    "collapsed": false,
    "pycharm": {
     "name": "#%%\n"
    }
   }
  },
  {
   "cell_type": "code",
   "execution_count": 19,
   "outputs": [
    {
     "name": "stderr",
     "output_type": "stream",
     "text": [
      "100%|██████████| 5/5 [3:57:57<00:00, 2855.58s/it]  \n"
     ]
    }
   ],
   "source": [
    "for path in tqdm(iwasa_path):\n",
    "    cap = cv2.VideoCapture(IN_DIR + path + \".MP4\")\n",
    "    digit = len(str(int(cap.get(cv2.CAP_PROP_FRAME_COUNT))))\n",
    "\n",
    "    n = 0\n",
    "    while True:\n",
    "        ret, frame = cap.read()\n",
    "        if ret:\n",
    "                cv2.imwrite(OUT_DIR + path + f\"\\\\{n}.bmp\", frame)\n",
    "                n += 1\n",
    "        else:\n",
    "            break"
   ],
   "metadata": {
    "collapsed": false,
    "pycharm": {
     "name": "#%%\n"
    }
   }
  },
  {
   "cell_type": "code",
   "execution_count": null,
   "outputs": [],
   "source": [],
   "metadata": {
    "collapsed": false,
    "pycharm": {
     "name": "#%%\n"
    }
   }
  }
 ],
 "metadata": {
  "kernelspec": {
   "display_name": "Python 3",
   "language": "python",
   "name": "python3"
  },
  "language_info": {
   "codemirror_mode": {
    "name": "ipython",
    "version": 2
   },
   "file_extension": ".py",
   "mimetype": "text/x-python",
   "name": "python",
   "nbconvert_exporter": "python",
   "pygments_lexer": "ipython2",
   "version": "2.7.6"
  }
 },
 "nbformat": 4,
 "nbformat_minor": 0
}