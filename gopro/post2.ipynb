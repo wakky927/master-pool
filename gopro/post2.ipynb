{
 "cells": [
  {
   "cell_type": "code",
   "execution_count": 9,
   "metadata": {
    "collapsed": true,
    "pycharm": {
     "name": "#%%\n"
    }
   },
   "outputs": [],
   "source": [
    "import pickle\n",
    "\n",
    "from matplotlib import pyplot as plt\n",
    "import numpy as np\n",
    "import pandas as pd\n",
    "from tqdm import tqdm"
   ]
  },
  {
   "cell_type": "code",
   "execution_count": 10,
   "outputs": [],
   "source": [
    "import warnings\n",
    "warnings.simplefilter(\"ignore\", UserWarning)\n",
    "warnings.simplefilter(\"ignore\", RuntimeWarning)"
   ],
   "metadata": {
    "collapsed": false,
    "pycharm": {
     "name": "#%%\n"
    }
   }
  },
  {
   "cell_type": "code",
   "execution_count": 11,
   "outputs": [],
   "source": [
    "result1 = pickle.load(open(\"1.pickle\", 'rb'))\n",
    "result2 = pickle.load(open(\"2.pickle\", 'rb'))\n",
    "result3 = pickle.load(open(\"3.pickle\", 'rb'))\n",
    "result4 = pickle.load(open(\"4.pickle\", 'rb'))\n",
    "result5 = pickle.load(open(\"5.pickle\", 'rb'))\n",
    "result6 = pickle.load(open(\"6.pickle\", 'rb'))\n",
    "result7 = pickle.load(open(\"7.pickle\", 'rb'))\n",
    "result8 = pickle.load(open(\"8.pickle\", 'rb'))\n",
    "result9 = pickle.load(open(\"9.pickle\", 'rb'))\n",
    "result10 = pickle.load(open(\"10.pickle\", 'rb'))"
   ],
   "metadata": {
    "collapsed": false,
    "pycharm": {
     "name": "#%%\n"
    }
   }
  },
  {
   "cell_type": "code",
   "execution_count": 12,
   "outputs": [],
   "source": [
    "result_pp = pd.concat([result1, result2], axis=0, ignore_index=True)\n",
    "result_pp = pd.concat([result_pp, result3], axis=0, ignore_index=True)\n",
    "result_pp = pd.concat([result_pp, result4], axis=0, ignore_index=True)\n",
    "result_pp = pd.concat([result_pp, result5], axis=0, ignore_index=True)\n",
    "\n",
    "result_iwasa = pd.concat([result6, result7], axis=0, ignore_index=True)\n",
    "result_iwasa = pd.concat([result_iwasa, result8], axis=0, ignore_index=True)\n",
    "result_iwasa = pd.concat([result_iwasa, result9], axis=0, ignore_index=True)\n",
    "result_iwasa = pd.concat([result_iwasa, result10], axis=0, ignore_index=True)"
   ],
   "metadata": {
    "collapsed": false,
    "pycharm": {
     "name": "#%%\n"
    }
   }
  },
  {
   "cell_type": "code",
   "execution_count": 13,
   "outputs": [],
   "source": [
    "res_sort_pp = result_pp.sort_values(by='r', ascending=True).values\n",
    "res_sort_iwasa = result_iwasa.sort_values(by='r', ascending=True).values"
   ],
   "metadata": {
    "collapsed": false,
    "pycharm": {
     "name": "#%%\n"
    }
   }
  },
  {
   "cell_type": "code",
   "execution_count": 14,
   "outputs": [],
   "source": [
    "_iter = 5\n",
    "res_pp = []\n",
    "res2_pp = []\n",
    "res_iwasa = []\n",
    "res2_iwasa = []"
   ],
   "metadata": {
    "collapsed": false,
    "pycharm": {
     "name": "#%%\n"
    }
   }
  },
  {
   "cell_type": "code",
   "execution_count": 15,
   "outputs": [
    {
     "name": "stderr",
     "output_type": "stream",
     "text": [
      "100%|██████████| 201/201 [00:00<00:00, 229.51it/s]\n"
     ]
    }
   ],
   "source": [
    "r_dr_err = np.zeros((1001, 3))\n",
    "r_dr_in = np.zeros((1, 2))\n",
    "r_dr_err[:, :] = np.nan\n",
    "r_dr_in[:, :] = np.nan\n",
    "\n",
    "for i in tqdm(range(0, 1001, _iter)):\n",
    "    res_sort_l = res_sort_pp[np.where(res_sort_pp[:, 6] >= i/1000)]\n",
    "    res_sort_lr = res_sort_l[np.where(res_sort_l[:, 6] < (i+_iter)/1000)]\n",
    "    columns = ['x', 'y', 'dx', 'dy', 'p0', 'p1', 'r', 'theta', 'dr']\n",
    "    df = pd.DataFrame(data=res_sort_lr, columns=columns, dtype='float')\n",
    "    q1 = df['dr'].quantile(0.25)\n",
    "    q2 = df['dr'].quantile(0.75)\n",
    "    iqr = q2 - q1\n",
    "\n",
    "    upper = q2 + 1.5 * iqr\n",
    "    bottom = q1 - 1.5 * iqr\n",
    "    _in = df[(df['dr'] >= bottom) & (df['dr'] <= upper)].values\n",
    "    tmp = np.array([_in[:, 6], _in[:, 8]]).T\n",
    "    r_dr_in = np.vstack([r_dr_in, tmp])\n",
    "\n",
    "    r_dr_err[i, 0] = i\n",
    "    r_dr_err[i, 1] = np.mean(tmp, axis=0)[1]\n",
    "    r_dr_err[i, 2] = np.std(tmp, axis=0)[1]\n",
    "\n",
    "r_dr_err = r_dr_err[::_iter]\n",
    "res_pp = r_dr_err\n",
    "res2_pp = r_dr_in"
   ],
   "metadata": {
    "collapsed": false,
    "pycharm": {
     "name": "#%%\n"
    }
   }
  },
  {
   "cell_type": "code",
   "execution_count": 16,
   "outputs": [
    {
     "name": "stderr",
     "output_type": "stream",
     "text": [
      "100%|██████████| 201/201 [00:00<00:00, 284.39it/s]\n"
     ]
    }
   ],
   "source": [
    "r_dr_err = np.zeros((1001, 3))\n",
    "r_dr_in = np.zeros((1, 2))\n",
    "r_dr_err[:, :] = np.nan\n",
    "r_dr_in[:, :] = np.nan\n",
    "\n",
    "for i in tqdm(range(0, 1001, _iter)):\n",
    "    res_sort_l = res_sort_iwasa[np.where(res_sort_iwasa[:, 6] >= i/1000)]\n",
    "    res_sort_lr = res_sort_l[np.where(res_sort_l[:, 6] < (i+_iter)/1000)]\n",
    "    columns = ['x', 'y', 'dx', 'dy', 'p0', 'p1', 'r', 'theta', 'dr']\n",
    "    df = pd.DataFrame(data=res_sort_lr, columns=columns, dtype='float')\n",
    "    q1 = df['dr'].quantile(0.25)\n",
    "    q2 = df['dr'].quantile(0.75)\n",
    "    iqr = q2 - q1\n",
    "\n",
    "    upper = q2 + 1.5 * iqr\n",
    "    bottom = q1 - 1.5 * iqr\n",
    "    _in = df[(df['dr'] >= bottom) & (df['dr'] <= upper)].values\n",
    "    tmp = np.array([_in[:, 6], _in[:, 8]]).T\n",
    "    r_dr_in = np.vstack([r_dr_in, tmp])\n",
    "\n",
    "    r_dr_err[i, 0] = i\n",
    "    r_dr_err[i, 1] = np.mean(tmp, axis=0)[1]\n",
    "    r_dr_err[i, 2] = np.std(tmp, axis=0)[1]\n",
    "\n",
    "r_dr_err = r_dr_err[::_iter]\n",
    "res_iwasa = r_dr_err\n",
    "res2_iwasa = r_dr_in"
   ],
   "metadata": {
    "collapsed": false,
    "pycharm": {
     "name": "#%%\n"
    }
   }
  },
  {
   "cell_type": "code",
   "execution_count": null,
   "outputs": [],
   "source": [
    "fig, ax = plt.subplots(figsize=(10, 8))\n",
    "plt.xlim(0, 1.5)\n",
    "plt.ylim(0.03, 0.5)\n",
    "ax.set_yscale(\"log\")\n",
    "ax.scatter(res_pp[80:-18, 0]/1000, res_pp[80:-18, 1])\n",
    "plt.show()"
   ],
   "metadata": {
    "collapsed": false,
    "pycharm": {
     "name": "#%%\n"
    }
   }
  },
  {
   "cell_type": "code",
   "execution_count": 21,
   "outputs": [
    {
     "data": {
      "text/plain": "<Figure size 720x576 with 1 Axes>",
      "image/png": "[encoded data removed]"
     },
     "metadata": {
      "needs_background": "light"
     },
     "output_type": "display_data"
    }
   ],
   "source": [
    "fig, ax = plt.subplots(figsize=(10, 8))\n",
    "plt.xlim(0, 1.5)\n",
    "ax.scatter(res_pp[:, 0]/1000, res_pp[:, 1])\n",
    "ax.scatter(res_iwasa[:, 0]/1000, res_iwasa[:, 1])\n",
    "plt.show()"
   ],
   "metadata": {
    "collapsed": false,
    "pycharm": {
     "name": "#%%\n"
    }
   }
  },
  {
   "cell_type": "code",
   "execution_count": 18,
   "outputs": [
    {
     "data": {
      "text/plain": "<Figure size 720x576 with 1 Axes>",
      "image/png": "[encoded data removed]"
     },
     "metadata": {
      "needs_background": "light"
     },
     "output_type": "display_data"
    }
   ],
   "source": [
    "fig, ax = plt.subplots(figsize=(10, 8))\n",
    "ax.set_xscale(\"log\")\n",
    "ax.set_yscale(\"log\")\n",
    "ax.scatter(res_pp[80:, 0]/1000, res_pp[80:, 1])\n",
    "ax.plot(np.linspace(0.4, 2, 100), 1 / np.linspace(0.4, 2, 100) * 0.1, c='r')\n",
    "ax.plot(np.linspace(0.4, 2, 100), 1 / np.linspace(0.4, 2, 100)**2 * 0.1, c='g')\n",
    "plt.show()"
   ],
   "metadata": {
    "collapsed": false,
    "pycharm": {
     "name": "#%%\n"
    }
   }
  },
  {
   "cell_type": "code",
   "execution_count": 18,
   "outputs": [],
   "source": [],
   "metadata": {
    "collapsed": false,
    "pycharm": {
     "name": "#%%\n"
    }
   }
  }
 ],
 "metadata": {
  "kernelspec": {
   "display_name": "Python 3",
   "language": "python",
   "name": "python3"
  },
  "language_info": {
   "codemirror_mode": {
    "name": "ipython",
    "version": 2
   },
   "file_extension": ".py",
   "mimetype": "text/x-python",
   "name": "python",
   "nbconvert_exporter": "python",
   "pygments_lexer": "ipython2",
   "version": "2.7.6"
  }
 },
 "nbformat": 4,
 "nbformat_minor": 0
}