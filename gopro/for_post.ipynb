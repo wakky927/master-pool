{
 "cells": [
  {
   "cell_type": "code",
   "execution_count": 26,
   "metadata": {
    "collapsed": true,
    "pycharm": {
     "name": "#%%\n"
    }
   },
   "outputs": [],
   "source": [
    "import numpy as np\n",
    "from tqdm import tqdm"
   ]
  },
  {
   "cell_type": "code",
   "execution_count": 27,
   "outputs": [],
   "source": [
    "import warnings\n",
    "warnings.simplefilter(\"ignore\", UserWarning)"
   ],
   "metadata": {
    "collapsed": false,
    "pycharm": {
     "name": "#%%\n"
    }
   }
  },
  {
   "cell_type": "markdown",
   "source": [
    "# 0-346 disappeared"
   ],
   "metadata": {
    "collapsed": false,
    "pycharm": {
     "name": "#%% md\n"
    }
   }
  },
  {
   "cell_type": "code",
   "execution_count": 28,
   "outputs": [
    {
     "name": "stderr",
     "output_type": "stream",
     "text": [
      "100%|██████████| 347/347 [00:00<00:00, 1892.86it/s]\n"
     ]
    }
   ],
   "source": [
    "for i in tqdm(range(347)):\n",
    "    data = np.loadtxt(f\"E:\\\\M2\\\\result\\\\pool\\\\gopro\\\\pp\\\\GX010036\\\\pp_{i}.csv\", delimiter=',')\n",
    "\n",
    "    if data is None:\n",
    "        continue\n",
    "    elif data.ndim == 1:\n",
    "        data = data[np.newaxis, :]\n",
    "\n",
    "    tmp = np.zeros([data.shape[0], 1])\n",
    "\n",
    "    data = np.hstack([data, tmp])\n",
    "\n",
    "    np.savetxt(f\"E:\\\\M2\\\\result\\\\pool\\\\gopro\\\\pp_test\\\\pp\\\\GX010036\\\\pp_{i}.csv\", data, delimiter=',')"
   ],
   "metadata": {
    "collapsed": false,
    "pycharm": {
     "name": "#%%\n"
    }
   }
  },
  {
   "cell_type": "markdown",
   "source": [
    "# 347-358 appeared -> manual"
   ],
   "metadata": {
    "collapsed": false,
    "pycharm": {
     "name": "#%% md\n"
    }
   }
  },
  {
   "cell_type": "markdown",
   "source": [
    "# 359-511 disappeared"
   ],
   "metadata": {
    "collapsed": false,
    "pycharm": {
     "name": "#%% md\n"
    }
   }
  },
  {
   "cell_type": "code",
   "execution_count": 29,
   "outputs": [
    {
     "name": "stderr",
     "output_type": "stream",
     "text": [
      "100%|██████████| 152/152 [00:00<00:00, 1718.22it/s]\n"
     ]
    }
   ],
   "source": [
    "for i in tqdm(range(359, 511)):\n",
    "    data = np.loadtxt(f\"E:\\\\M2\\\\result\\\\pool\\\\gopro\\\\pp\\\\GX010036\\\\pp_{i}.csv\", delimiter=',')\n",
    "\n",
    "    if data is None:\n",
    "        continue\n",
    "    elif data.ndim == 1:\n",
    "        data = data[np.newaxis, :]\n",
    "\n",
    "    tmp = np.zeros([data.shape[0], 1])\n",
    "\n",
    "    data = np.hstack([data, tmp])\n",
    "\n",
    "    np.savetxt(f\"E:\\\\M2\\\\result\\\\pool\\\\gopro\\\\pp_test\\\\pp\\\\GX010036\\\\pp_{i}.csv\", data, delimiter=',')"
   ],
   "metadata": {
    "collapsed": false,
    "pycharm": {
     "name": "#%%\n"
    }
   }
  },
  {
   "cell_type": "markdown",
   "source": [
    "# 512-533 manual"
   ],
   "metadata": {
    "collapsed": false,
    "pycharm": {
     "name": "#%% md\n"
    }
   }
  },
  {
   "cell_type": "markdown",
   "source": [
    "# 534-600 x_c < 1850 -> error"
   ],
   "metadata": {
    "collapsed": false,
    "pycharm": {
     "name": "#%% md\n"
    }
   }
  },
  {
   "cell_type": "code",
   "execution_count": 30,
   "outputs": [
    {
     "name": "stderr",
     "output_type": "stream",
     "text": [
      "100%|██████████| 67/67 [00:00<00:00, 1553.72it/s]\n"
     ]
    }
   ],
   "source": [
    "for i in tqdm(range(534, 601)):\n",
    "    data = np.loadtxt(f\"E:\\\\M2\\\\result\\\\pool\\\\gopro\\\\pp\\\\GX010036\\\\pp_{i}.csv\", delimiter=',')\n",
    "\n",
    "    if data is None:\n",
    "        continue\n",
    "    elif data.ndim == 1:\n",
    "        data = data[np.newaxis, :]\n",
    "\n",
    "    tmp = np.zeros([data.shape[0], 1])\n",
    "\n",
    "    data = np.hstack([data, tmp])\n",
    "\n",
    "    for j in range(data.shape[0]):\n",
    "        if data[j, 0] > 1850: data[j, -1] = 1\n",
    "\n",
    "    np.savetxt(f\"E:\\\\M2\\\\result\\\\pool\\\\gopro\\\\pp_test\\\\pp\\\\GX010036\\\\pp_{i}.csv\", data, delimiter=',')"
   ],
   "metadata": {
    "collapsed": false,
    "pycharm": {
     "name": "#%%\n"
    }
   }
  },
  {
   "cell_type": "markdown",
   "source": [
    "# 601-1217 all 1 -> manual"
   ],
   "metadata": {
    "collapsed": false,
    "pycharm": {
     "name": "#%% md\n"
    }
   }
  },
  {
   "cell_type": "code",
   "execution_count": 31,
   "outputs": [
    {
     "name": "stderr",
     "output_type": "stream",
     "text": [
      "100%|██████████| 617/617 [00:04<00:00, 125.48it/s]\n"
     ]
    }
   ],
   "source": [
    "for i in tqdm(range(601, 1218)):\n",
    "    data = np.loadtxt(f\"E:\\\\M2\\\\result\\\\pool\\\\gopro\\\\pp\\\\GX010036\\\\pp_{i}.csv\", delimiter=',')\n",
    "\n",
    "    if data is None:\n",
    "        continue\n",
    "    elif data.ndim == 1:\n",
    "        data = data[np.newaxis, :]\n",
    "\n",
    "    tmp = np.ones([data.shape[0], 1])\n",
    "\n",
    "    data = np.hstack([data, tmp])\n",
    "\n",
    "    np.savetxt(f\"E:\\\\M2\\\\result\\\\pool\\\\gopro\\\\pp_test\\\\pp\\\\GX010036\\\\pp_{i}.csv\", data, delimiter=',')"
   ],
   "metadata": {
    "collapsed": false,
    "pycharm": {
     "name": "#%%\n"
    }
   }
  },
  {
   "cell_type": "markdown",
   "source": [
    "# 1218 -> 1641 all 0"
   ],
   "metadata": {
    "collapsed": false,
    "pycharm": {
     "name": "#%% md\n"
    }
   }
  },
  {
   "cell_type": "code",
   "execution_count": 32,
   "outputs": [
    {
     "name": "stderr",
     "output_type": "stream",
     "text": [
      "100%|██████████| 424/424 [00:00<00:00, 794.00it/s]\n"
     ]
    }
   ],
   "source": [
    "for i in tqdm(range(1218, 1642)):\n",
    "    data = np.loadtxt(f\"E:\\\\M2\\\\result\\\\pool\\\\gopro\\\\pp\\\\GX010036\\\\pp_{i}.csv\", delimiter=',')\n",
    "\n",
    "    if data is None:\n",
    "        continue\n",
    "    elif data.ndim == 1:\n",
    "        data = data[np.newaxis, :]\n",
    "\n",
    "    tmp = np.zeros([data.shape[0], 1])\n",
    "\n",
    "    data = np.hstack([data, tmp])\n",
    "\n",
    "    np.savetxt(f\"E:\\\\M2\\\\result\\\\pool\\\\gopro\\\\pp_test\\\\pp\\\\GX010036\\\\pp_{i}.csv\", data, delimiter=',')"
   ],
   "metadata": {
    "collapsed": false,
    "pycharm": {
     "name": "#%%\n"
    }
   }
  },
  {
   "cell_type": "code",
   "execution_count": null,
   "outputs": [],
   "source": [],
   "metadata": {
    "collapsed": false,
    "pycharm": {
     "name": "#%%\n"
    }
   }
  }
 ],
 "metadata": {
  "kernelspec": {
   "display_name": "Python 3",
   "language": "python",
   "name": "python3"
  },
  "language_info": {
   "codemirror_mode": {
    "name": "ipython",
    "version": 2
   },
   "file_extension": ".py",
   "mimetype": "text/x-python",
   "name": "python",
   "nbconvert_exporter": "python",
   "pygments_lexer": "ipython2",
   "version": "2.7.6"
  }
 },
 "nbformat": 4,
 "nbformat_minor": 0
}