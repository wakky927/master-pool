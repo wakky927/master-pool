{
 "cells": [
  {
   "cell_type": "code",
   "execution_count": 1,
   "metadata": {
    "collapsed": true,
    "pycharm": {
     "name": "#%%\n"
    }
   },
   "outputs": [],
   "source": [
    "import pickle\n",
    "\n",
    "from matplotlib import pyplot as plt\n",
    "import numpy as np\n",
    "import pandas as pd\n",
    "from tqdm import tqdm"
   ]
  },
  {
   "cell_type": "code",
   "execution_count": 2,
   "outputs": [],
   "source": [
    "import warnings\n",
    "warnings.simplefilter(\"ignore\", UserWarning)\n",
    "warnings.simplefilter(\"ignore\", RuntimeWarning)"
   ],
   "metadata": {
    "collapsed": false,
    "pycharm": {
     "name": "#%%\n"
    }
   }
  },
  {
   "cell_type": "code",
   "execution_count": 3,
   "outputs": [],
   "source": [
    "IN_DIR = \"E:\\\\M2\\\\result\\\\pool\\\\gopro\\\\ptv\\\\\""
   ],
   "metadata": {
    "collapsed": false,
    "pycharm": {
     "name": "#%%\n"
    }
   }
  },
  {
   "cell_type": "code",
   "execution_count": 4,
   "outputs": [],
   "source": [
    "px_to_m = 10 / 34 / 1e3"
   ],
   "metadata": {
    "collapsed": false,
    "pycharm": {
     "name": "#%%\n"
    }
   }
  },
  {
   "cell_type": "code",
   "execution_count": 5,
   "outputs": [
    {
     "name": "stderr",
     "output_type": "stream",
     "text": [
      "100%|██████████| 3900/3900 [00:10<00:00, 377.26it/s]\n"
     ]
    }
   ],
   "source": [
    "c = 1\n",
    "ptv_result = np.zeros((1, 6))\n",
    "\n",
    "for i in tqdm(range(0, 3900, 1)):\n",
    "    try:\n",
    "        r = np.loadtxt(IN_DIR +f\"{c}/{i}.csv\", delimiter=',', skiprows=1)\n",
    "    except StopIteration:\n",
    "        r = None\n",
    "    except OSError:\n",
    "        r = None\n",
    "\n",
    "    if r is None:\n",
    "        pass\n",
    "    elif r.ndim == 1:\n",
    "        if len(r) > 0:\n",
    "            r = r[np.newaxis, :]\n",
    "            ptv_result = np.vstack([ptv_result, r])\n",
    "\n",
    "    elif r.ndim == 2:\n",
    "        ptv_result = np.vstack([ptv_result, r])\n",
    "\n",
    "ptv_result = pd.DataFrame(ptv_result, columns=['x', 'y', 'dx', 'dy', 'p0', 'p1'])\n",
    "for row in ptv_result.index:\n",
    "    if (ptv_result.loc[row] == 0).all():\n",
    "        ptv_result.drop(row, axis=0, inplace=True)\n",
    "\n",
    "ptv_result['x'] = 2704 - ptv_result['x']\n",
    "ptv_result['y'] = 1520 - ptv_result['y']\n",
    "ptv_result['dx'] = - ptv_result['dx']\n",
    "ptv_result['dy'] = - ptv_result['dy']\n",
    "\n",
    "ptv_result['x'] = ptv_result['x'] + 378\n",
    "ptv_result['y'] = ptv_result['y'] - 675\n",
    "\n",
    "ptv_result['x'] *= px_to_m\n",
    "ptv_result['y'] *= px_to_m\n",
    "ptv_result['dx'] *= px_to_m * 120\n",
    "ptv_result['dy'] *= px_to_m * 120\n",
    "\n",
    "ptv_result['r'] = np.sqrt(ptv_result['x']**2 + ptv_result['y']**2)\n",
    "ptv_result['theta'] = np.arctan2(ptv_result['y'], ptv_result['x'])\n",
    "ptv_result['dr'] = ptv_result['dx'] * np.cos(ptv_result['theta']) + ptv_result['dy'] * np.sin(ptv_result['theta'])\n",
    "\n",
    "with open(f'{c}.pickle', mode='wb') as fp:\n",
    "    pickle.dump(ptv_result, fp)"
   ],
   "metadata": {
    "collapsed": false,
    "pycharm": {
     "name": "#%%\n"
    }
   }
  },
  {
   "cell_type": "code",
   "execution_count": 6,
   "outputs": [
    {
     "name": "stderr",
     "output_type": "stream",
     "text": [
      "100%|██████████| 3900/3900 [00:10<00:00, 388.61it/s]\n"
     ]
    }
   ],
   "source": [
    "c = 2\n",
    "ptv_result = np.zeros((1, 6))\n",
    "\n",
    "for i in tqdm(range(0, 3900, 1)):\n",
    "    try:\n",
    "        r = np.loadtxt(IN_DIR +f\"{c}/{i}.csv\", delimiter=',', skiprows=1)\n",
    "    except StopIteration:\n",
    "        r = None\n",
    "    except OSError:\n",
    "        r = None\n",
    "\n",
    "    if r is None:\n",
    "        pass\n",
    "    elif r.ndim == 1:\n",
    "        if len(r) > 0:\n",
    "            r = r[np.newaxis, :]\n",
    "            ptv_result = np.vstack([ptv_result, r])\n",
    "\n",
    "    elif r.ndim == 2:\n",
    "        ptv_result = np.vstack([ptv_result, r])\n",
    "\n",
    "ptv_result = pd.DataFrame(ptv_result, columns=['x', 'y', 'dx', 'dy', 'p0', 'p1'])\n",
    "for row in ptv_result.index:\n",
    "    if (ptv_result.loc[row] == 0).all():\n",
    "        ptv_result.drop(row, axis=0, inplace=True)\n",
    "\n",
    "ptv_result['x'] = 2704 - ptv_result['x']\n",
    "ptv_result['y'] = 1520 - ptv_result['y']\n",
    "ptv_result['dx'] = - ptv_result['dx']\n",
    "ptv_result['dy'] = - ptv_result['dy']\n",
    "\n",
    "ptv_result['x'] = ptv_result['x'] + 378\n",
    "ptv_result['y'] = ptv_result['y'] - 675\n",
    "\n",
    "ptv_result['x'] *= px_to_m\n",
    "ptv_result['y'] *= px_to_m\n",
    "ptv_result['dx'] *= px_to_m * 120\n",
    "ptv_result['dy'] *= px_to_m * 120\n",
    "\n",
    "ptv_result['r'] = np.sqrt(ptv_result['x']**2 + ptv_result['y']**2)\n",
    "ptv_result['theta'] = np.arctan2(ptv_result['y'], ptv_result['x'])\n",
    "ptv_result['dr'] = ptv_result['dx'] * np.cos(ptv_result['theta']) + ptv_result['dy'] * np.sin(ptv_result['theta'])\n",
    "\n",
    "with open(f'{c}.pickle', mode='wb') as fp:\n",
    "    pickle.dump(ptv_result, fp)"
   ],
   "metadata": {
    "collapsed": false,
    "pycharm": {
     "name": "#%%\n"
    }
   }
  },
  {
   "cell_type": "code",
   "execution_count": 7,
   "outputs": [
    {
     "name": "stderr",
     "output_type": "stream",
     "text": [
      "100%|██████████| 3900/3900 [00:09<00:00, 407.61it/s]\n"
     ]
    }
   ],
   "source": [
    "c = 3\n",
    "ptv_result = np.zeros((1, 6))\n",
    "\n",
    "for i in tqdm(range(0, 3900, 1)):\n",
    "    try:\n",
    "        r = np.loadtxt(IN_DIR +f\"{c}/{i}.csv\", delimiter=',', skiprows=1)\n",
    "    except StopIteration:\n",
    "        r = None\n",
    "    except OSError:\n",
    "        r = None\n",
    "\n",
    "    if r is None:\n",
    "        pass\n",
    "    elif r.ndim == 1:\n",
    "        if len(r) > 0:\n",
    "            r = r[np.newaxis, :]\n",
    "            ptv_result = np.vstack([ptv_result, r])\n",
    "\n",
    "    elif r.ndim == 2:\n",
    "        ptv_result = np.vstack([ptv_result, r])\n",
    "\n",
    "ptv_result = pd.DataFrame(ptv_result, columns=['x', 'y', 'dx', 'dy', 'p0', 'p1'])\n",
    "for row in ptv_result.index:\n",
    "    if (ptv_result.loc[row] == 0).all():\n",
    "        ptv_result.drop(row, axis=0, inplace=True)\n",
    "\n",
    "ptv_result['x'] = 2704 - ptv_result['x']\n",
    "ptv_result['y'] = 1520 - ptv_result['y']\n",
    "ptv_result['dx'] = - ptv_result['dx']\n",
    "ptv_result['dy'] = - ptv_result['dy']\n",
    "\n",
    "ptv_result['x'] = ptv_result['x'] + 378\n",
    "ptv_result['y'] = ptv_result['y'] - 675\n",
    "\n",
    "ptv_result['x'] *= px_to_m\n",
    "ptv_result['y'] *= px_to_m\n",
    "ptv_result['dx'] *= px_to_m * 120\n",
    "ptv_result['dy'] *= px_to_m * 120\n",
    "\n",
    "ptv_result['r'] = np.sqrt(ptv_result['x']**2 + ptv_result['y']**2)\n",
    "ptv_result['theta'] = np.arctan2(ptv_result['y'], ptv_result['x'])\n",
    "ptv_result['dr'] = ptv_result['dx'] * np.cos(ptv_result['theta']) + ptv_result['dy'] * np.sin(ptv_result['theta'])\n",
    "\n",
    "with open(f'{c}.pickle', mode='wb') as fp:\n",
    "    pickle.dump(ptv_result, fp)"
   ],
   "metadata": {
    "collapsed": false,
    "pycharm": {
     "name": "#%%\n"
    }
   }
  },
  {
   "cell_type": "code",
   "execution_count": 8,
   "outputs": [
    {
     "name": "stderr",
     "output_type": "stream",
     "text": [
      "100%|██████████| 3900/3900 [00:09<00:00, 419.99it/s]\n"
     ]
    }
   ],
   "source": [
    "c = 4\n",
    "ptv_result = np.zeros((1, 6))\n",
    "\n",
    "for i in tqdm(range(0, 3900, 1)):\n",
    "    try:\n",
    "        r = np.loadtxt(IN_DIR +f\"{c}/{i}.csv\", delimiter=',', skiprows=1)\n",
    "    except StopIteration:\n",
    "        r = None\n",
    "    except OSError:\n",
    "        r = None\n",
    "\n",
    "    if r is None:\n",
    "        pass\n",
    "    elif r.ndim == 1:\n",
    "        if len(r) > 0:\n",
    "            r = r[np.newaxis, :]\n",
    "            ptv_result = np.vstack([ptv_result, r])\n",
    "\n",
    "    elif r.ndim == 2:\n",
    "        ptv_result = np.vstack([ptv_result, r])\n",
    "\n",
    "ptv_result = pd.DataFrame(ptv_result, columns=['x', 'y', 'dx', 'dy', 'p0', 'p1'])\n",
    "for row in ptv_result.index:\n",
    "    if (ptv_result.loc[row] == 0).all():\n",
    "        ptv_result.drop(row, axis=0, inplace=True)\n",
    "\n",
    "ptv_result['x'] = 2704 - ptv_result['x']\n",
    "ptv_result['y'] = 1520 - ptv_result['y']\n",
    "ptv_result['dx'] = - ptv_result['dx']\n",
    "ptv_result['dy'] = - ptv_result['dy']\n",
    "\n",
    "ptv_result['x'] = ptv_result['x'] + 378\n",
    "ptv_result['y'] = ptv_result['y'] - 675\n",
    "\n",
    "ptv_result['x'] *= px_to_m\n",
    "ptv_result['y'] *= px_to_m\n",
    "ptv_result['dx'] *= px_to_m * 120\n",
    "ptv_result['dy'] *= px_to_m * 120\n",
    "\n",
    "ptv_result['r'] = np.sqrt(ptv_result['x']**2 + ptv_result['y']**2)\n",
    "ptv_result['theta'] = np.arctan2(ptv_result['y'], ptv_result['x'])\n",
    "ptv_result['dr'] = ptv_result['dx'] * np.cos(ptv_result['theta']) + ptv_result['dy'] * np.sin(ptv_result['theta'])\n",
    "\n",
    "with open(f'{c}.pickle', mode='wb') as fp:\n",
    "    pickle.dump(ptv_result, fp)"
   ],
   "metadata": {
    "collapsed": false,
    "pycharm": {
     "name": "#%%\n"
    }
   }
  },
  {
   "cell_type": "code",
   "execution_count": 9,
   "outputs": [
    {
     "name": "stderr",
     "output_type": "stream",
     "text": [
      "100%|██████████| 3900/3900 [00:07<00:00, 538.50it/s] \n"
     ]
    }
   ],
   "source": [
    "c = 5\n",
    "ptv_result = np.zeros((1, 6))\n",
    "\n",
    "for i in tqdm(range(0, 3900, 1)):\n",
    "    try:\n",
    "        r = np.loadtxt(IN_DIR +f\"{c}/{i}.csv\", delimiter=',', skiprows=1)\n",
    "    except StopIteration:\n",
    "        r = None\n",
    "    except OSError:\n",
    "        r = None\n",
    "\n",
    "    if r is None:\n",
    "        pass\n",
    "    elif r.ndim == 1:\n",
    "        if len(r) > 0:\n",
    "            r = r[np.newaxis, :]\n",
    "            ptv_result = np.vstack([ptv_result, r])\n",
    "\n",
    "    elif r.ndim == 2:\n",
    "        ptv_result = np.vstack([ptv_result, r])\n",
    "\n",
    "ptv_result = pd.DataFrame(ptv_result, columns=['x', 'y', 'dx', 'dy', 'p0', 'p1'])\n",
    "for row in ptv_result.index:\n",
    "    if (ptv_result.loc[row] == 0).all():\n",
    "        ptv_result.drop(row, axis=0, inplace=True)\n",
    "\n",
    "ptv_result['x'] = 2704 - ptv_result['x']\n",
    "ptv_result['y'] = 1520 - ptv_result['y']\n",
    "ptv_result['dx'] = - ptv_result['dx']\n",
    "ptv_result['dy'] = - ptv_result['dy']\n",
    "\n",
    "ptv_result['x'] = ptv_result['x'] + 378\n",
    "ptv_result['y'] = ptv_result['y'] - 675\n",
    "\n",
    "ptv_result['x'] *= px_to_m\n",
    "ptv_result['y'] *= px_to_m\n",
    "ptv_result['dx'] *= px_to_m * 120\n",
    "ptv_result['dy'] *= px_to_m * 120\n",
    "\n",
    "ptv_result['r'] = np.sqrt(ptv_result['x']**2 + ptv_result['y']**2)\n",
    "ptv_result['theta'] = np.arctan2(ptv_result['y'], ptv_result['x'])\n",
    "ptv_result['dr'] = ptv_result['dx'] * np.cos(ptv_result['theta']) + ptv_result['dy'] * np.sin(ptv_result['theta'])\n",
    "\n",
    "with open(f'{c}.pickle', mode='wb') as fp:\n",
    "    pickle.dump(ptv_result, fp)"
   ],
   "metadata": {
    "collapsed": false,
    "pycharm": {
     "name": "#%%\n"
    }
   }
  },
  {
   "cell_type": "code",
   "execution_count": 10,
   "outputs": [
    {
     "name": "stderr",
     "output_type": "stream",
     "text": [
      "100%|██████████| 5000/5000 [00:05<00:00, 929.13it/s] \n"
     ]
    }
   ],
   "source": [
    "c = 6\n",
    "ptv_result = np.zeros((1, 6))\n",
    "\n",
    "for i in tqdm(range(0, 5000, 1)):\n",
    "    try:\n",
    "        r = np.loadtxt(IN_DIR +f\"{c}/{i}.csv\", delimiter=',', skiprows=1)\n",
    "    except StopIteration:\n",
    "        r = None\n",
    "    except OSError:\n",
    "        r = None\n",
    "\n",
    "    if r is None:\n",
    "        pass\n",
    "    elif r.ndim == 1:\n",
    "        if len(r) > 0:\n",
    "            r = r[np.newaxis, :]\n",
    "            ptv_result = np.vstack([ptv_result, r])\n",
    "\n",
    "    elif r.ndim == 2:\n",
    "        ptv_result = np.vstack([ptv_result, r])\n",
    "\n",
    "ptv_result = pd.DataFrame(ptv_result, columns=['x', 'y', 'dx', 'dy', 'p0', 'p1'])\n",
    "for row in ptv_result.index:\n",
    "    if (ptv_result.loc[row] == 0).all():\n",
    "        ptv_result.drop(row, axis=0, inplace=True)\n",
    "\n",
    "ptv_result['x'] = 2704 - ptv_result['x']\n",
    "ptv_result['y'] = 1520 - ptv_result['y']\n",
    "ptv_result['dx'] = - ptv_result['dx']\n",
    "ptv_result['dy'] = - ptv_result['dy']\n",
    "\n",
    "ptv_result['x'] = ptv_result['x'] + 378\n",
    "ptv_result['y'] = ptv_result['y'] - 675\n",
    "\n",
    "ptv_result['x'] *= px_to_m\n",
    "ptv_result['y'] *= px_to_m\n",
    "ptv_result['dx'] *= px_to_m * 120\n",
    "ptv_result['dy'] *= px_to_m * 120\n",
    "\n",
    "ptv_result['r'] = np.sqrt(ptv_result['x']**2 + ptv_result['y']**2)\n",
    "ptv_result['theta'] = np.arctan2(ptv_result['y'], ptv_result['x'])\n",
    "ptv_result['dr'] = ptv_result['dx'] * np.cos(ptv_result['theta']) + ptv_result['dy'] * np.sin(ptv_result['theta'])\n",
    "\n",
    "with open(f'{c}.pickle', mode='wb') as fp:\n",
    "    pickle.dump(ptv_result, fp)"
   ],
   "metadata": {
    "collapsed": false,
    "pycharm": {
     "name": "#%%\n"
    }
   }
  },
  {
   "cell_type": "code",
   "execution_count": 11,
   "outputs": [
    {
     "name": "stderr",
     "output_type": "stream",
     "text": [
      "100%|██████████| 5000/5000 [00:09<00:00, 521.77it/s] \n"
     ]
    }
   ],
   "source": [
    "c = 7\n",
    "ptv_result = np.zeros((1, 6))\n",
    "\n",
    "for i in tqdm(range(0, 5000, 1)):\n",
    "    try:\n",
    "        r = np.loadtxt(IN_DIR +f\"{c}/{i}.csv\", delimiter=',', skiprows=1)\n",
    "    except StopIteration:\n",
    "        r = None\n",
    "    except OSError:\n",
    "        r = None\n",
    "\n",
    "    if r is None:\n",
    "        pass\n",
    "    elif r.ndim == 1:\n",
    "        if len(r) > 0:\n",
    "            r = r[np.newaxis, :]\n",
    "            ptv_result = np.vstack([ptv_result, r])\n",
    "\n",
    "    elif r.ndim == 2:\n",
    "        ptv_result = np.vstack([ptv_result, r])\n",
    "\n",
    "ptv_result = pd.DataFrame(ptv_result, columns=['x', 'y', 'dx', 'dy', 'p0', 'p1'])\n",
    "for row in ptv_result.index:\n",
    "    if (ptv_result.loc[row] == 0).all():\n",
    "        ptv_result.drop(row, axis=0, inplace=True)\n",
    "\n",
    "ptv_result['x'] = 2704 - ptv_result['x']\n",
    "ptv_result['y'] = 1520 - ptv_result['y']\n",
    "ptv_result['dx'] = - ptv_result['dx']\n",
    "ptv_result['dy'] = - ptv_result['dy']\n",
    "\n",
    "ptv_result['x'] = ptv_result['x'] + 378\n",
    "ptv_result['y'] = ptv_result['y'] - 675\n",
    "\n",
    "ptv_result['x'] *= px_to_m\n",
    "ptv_result['y'] *= px_to_m\n",
    "ptv_result['dx'] *= px_to_m * 120\n",
    "ptv_result['dy'] *= px_to_m * 120\n",
    "\n",
    "ptv_result['r'] = np.sqrt(ptv_result['x']**2 + ptv_result['y']**2)\n",
    "ptv_result['theta'] = np.arctan2(ptv_result['y'], ptv_result['x'])\n",
    "ptv_result['dr'] = ptv_result['dx'] * np.cos(ptv_result['theta']) + ptv_result['dy'] * np.sin(ptv_result['theta'])\n",
    "\n",
    "with open(f'{c}.pickle', mode='wb') as fp:\n",
    "    pickle.dump(ptv_result, fp)"
   ],
   "metadata": {
    "collapsed": false,
    "pycharm": {
     "name": "#%%\n"
    }
   }
  },
  {
   "cell_type": "code",
   "execution_count": 12,
   "outputs": [
    {
     "name": "stderr",
     "output_type": "stream",
     "text": [
      "100%|██████████| 5000/5000 [00:13<00:00, 382.64it/s]\n"
     ]
    }
   ],
   "source": [
    "c = 8\n",
    "ptv_result = np.zeros((1, 6))\n",
    "\n",
    "for i in tqdm(range(0, 5000, 1)):\n",
    "    try:\n",
    "        r = np.loadtxt(IN_DIR +f\"{c}/{i}.csv\", delimiter=',', skiprows=1)\n",
    "    except StopIteration:\n",
    "        r = None\n",
    "    except OSError:\n",
    "        r = None\n",
    "\n",
    "    if r is None:\n",
    "        pass\n",
    "    elif r.ndim == 1:\n",
    "        if len(r) > 0:\n",
    "            r = r[np.newaxis, :]\n",
    "            ptv_result = np.vstack([ptv_result, r])\n",
    "\n",
    "    elif r.ndim == 2:\n",
    "        ptv_result = np.vstack([ptv_result, r])\n",
    "\n",
    "ptv_result = pd.DataFrame(ptv_result, columns=['x', 'y', 'dx', 'dy', 'p0', 'p1'])\n",
    "for row in ptv_result.index:\n",
    "    if (ptv_result.loc[row] == 0).all():\n",
    "        ptv_result.drop(row, axis=0, inplace=True)\n",
    "\n",
    "ptv_result['x'] = 2704 - ptv_result['x']\n",
    "ptv_result['y'] = 1520 - ptv_result['y']\n",
    "ptv_result['dx'] = - ptv_result['dx']\n",
    "ptv_result['dy'] = - ptv_result['dy']\n",
    "\n",
    "ptv_result['x'] = ptv_result['x'] + 378\n",
    "ptv_result['y'] = ptv_result['y'] - 675\n",
    "\n",
    "ptv_result['x'] *= px_to_m\n",
    "ptv_result['y'] *= px_to_m\n",
    "ptv_result['dx'] *= px_to_m * 120\n",
    "ptv_result['dy'] *= px_to_m * 120\n",
    "\n",
    "ptv_result['r'] = np.sqrt(ptv_result['x']**2 + ptv_result['y']**2)\n",
    "ptv_result['theta'] = np.arctan2(ptv_result['y'], ptv_result['x'])\n",
    "ptv_result['dr'] = ptv_result['dx'] * np.cos(ptv_result['theta']) + ptv_result['dy'] * np.sin(ptv_result['theta'])\n",
    "\n",
    "with open(f'{c}.pickle', mode='wb') as fp:\n",
    "    pickle.dump(ptv_result, fp)"
   ],
   "metadata": {
    "collapsed": false,
    "pycharm": {
     "name": "#%%\n"
    }
   }
  },
  {
   "cell_type": "code",
   "execution_count": 13,
   "outputs": [
    {
     "name": "stderr",
     "output_type": "stream",
     "text": [
      "100%|██████████| 5000/5000 [00:12<00:00, 390.72it/s]\n"
     ]
    }
   ],
   "source": [
    "c = 9\n",
    "ptv_result = np.zeros((1, 6))\n",
    "\n",
    "for i in tqdm(range(0, 5000, 1)):\n",
    "    try:\n",
    "        r = np.loadtxt(IN_DIR +f\"{c}/{i}.csv\", delimiter=',', skiprows=1)\n",
    "    except StopIteration:\n",
    "        r = None\n",
    "    except OSError:\n",
    "        r = None\n",
    "\n",
    "    if r is None:\n",
    "        pass\n",
    "    elif r.ndim == 1:\n",
    "        if len(r) > 0:\n",
    "            r = r[np.newaxis, :]\n",
    "            ptv_result = np.vstack([ptv_result, r])\n",
    "\n",
    "    elif r.ndim == 2:\n",
    "        ptv_result = np.vstack([ptv_result, r])\n",
    "\n",
    "ptv_result = pd.DataFrame(ptv_result, columns=['x', 'y', 'dx', 'dy', 'p0', 'p1'])\n",
    "for row in ptv_result.index:\n",
    "    if (ptv_result.loc[row] == 0).all():\n",
    "        ptv_result.drop(row, axis=0, inplace=True)\n",
    "\n",
    "ptv_result['x'] = 2704 - ptv_result['x']\n",
    "ptv_result['y'] = 1520 - ptv_result['y']\n",
    "ptv_result['dx'] = - ptv_result['dx']\n",
    "ptv_result['dy'] = - ptv_result['dy']\n",
    "\n",
    "ptv_result['x'] = ptv_result['x'] + 378\n",
    "ptv_result['y'] = ptv_result['y'] - 675\n",
    "\n",
    "ptv_result['x'] *= px_to_m\n",
    "ptv_result['y'] *= px_to_m\n",
    "ptv_result['dx'] *= px_to_m * 120\n",
    "ptv_result['dy'] *= px_to_m * 120\n",
    "\n",
    "ptv_result['r'] = np.sqrt(ptv_result['x']**2 + ptv_result['y']**2)\n",
    "ptv_result['theta'] = np.arctan2(ptv_result['y'], ptv_result['x'])\n",
    "ptv_result['dr'] = ptv_result['dx'] * np.cos(ptv_result['theta']) + ptv_result['dy'] * np.sin(ptv_result['theta'])\n",
    "\n",
    "with open(f'{c}.pickle', mode='wb') as fp:\n",
    "    pickle.dump(ptv_result, fp)"
   ],
   "metadata": {
    "collapsed": false,
    "pycharm": {
     "name": "#%%\n"
    }
   }
  },
  {
   "cell_type": "code",
   "execution_count": 14,
   "outputs": [
    {
     "name": "stderr",
     "output_type": "stream",
     "text": [
      "100%|██████████| 5000/5000 [00:12<00:00, 409.07it/s]\n"
     ]
    }
   ],
   "source": [
    "c = 10\n",
    "ptv_result = np.zeros((1, 6))\n",
    "\n",
    "for i in tqdm(range(0, 5000, 1)):\n",
    "    try:\n",
    "        r = np.loadtxt(IN_DIR +f\"{c}/{i}.csv\", delimiter=',', skiprows=1)\n",
    "    except StopIteration:\n",
    "        r = None\n",
    "    except OSError:\n",
    "        r = None\n",
    "\n",
    "    if r is None:\n",
    "        pass\n",
    "    elif r.ndim == 1:\n",
    "        if len(r) > 0:\n",
    "            r = r[np.newaxis, :]\n",
    "            ptv_result = np.vstack([ptv_result, r])\n",
    "\n",
    "    elif r.ndim == 2:\n",
    "        ptv_result = np.vstack([ptv_result, r])\n",
    "\n",
    "ptv_result = pd.DataFrame(ptv_result, columns=['x', 'y', 'dx', 'dy', 'p0', 'p1'])\n",
    "for row in ptv_result.index:\n",
    "    if (ptv_result.loc[row] == 0).all():\n",
    "        ptv_result.drop(row, axis=0, inplace=True)\n",
    "\n",
    "ptv_result['x'] = 2704 - ptv_result['x']\n",
    "ptv_result['y'] = 1520 - ptv_result['y']\n",
    "ptv_result['dx'] = - ptv_result['dx']\n",
    "ptv_result['dy'] = - ptv_result['dy']\n",
    "\n",
    "ptv_result['x'] = ptv_result['x'] + 378\n",
    "ptv_result['y'] = ptv_result['y'] - 675\n",
    "\n",
    "ptv_result['x'] *= px_to_m\n",
    "ptv_result['y'] *= px_to_m\n",
    "ptv_result['dx'] *= px_to_m * 120\n",
    "ptv_result['dy'] *= px_to_m * 120\n",
    "\n",
    "ptv_result['r'] = np.sqrt(ptv_result['x']**2 + ptv_result['y']**2)\n",
    "ptv_result['theta'] = np.arctan2(ptv_result['y'], ptv_result['x'])\n",
    "ptv_result['dr'] = ptv_result['dx'] * np.cos(ptv_result['theta']) + ptv_result['dy'] * np.sin(ptv_result['theta'])\n",
    "\n",
    "with open(f'{c}.pickle', mode='wb') as fp:\n",
    "    pickle.dump(ptv_result, fp)"
   ],
   "metadata": {
    "collapsed": false,
    "pycharm": {
     "name": "#%%\n"
    }
   }
  }
 ],
 "metadata": {
  "kernelspec": {
   "display_name": "Python 3",
   "language": "python",
   "name": "python3"
  },
  "language_info": {
   "codemirror_mode": {
    "name": "ipython",
    "version": 2
   },
   "file_extension": ".py",
   "mimetype": "text/x-python",
   "name": "python",
   "nbconvert_exporter": "python",
   "pygments_lexer": "ipython2",
   "version": "2.7.6"
  }
 },
 "nbformat": 4,
 "nbformat_minor": 0
}