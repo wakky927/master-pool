{
 "cells": [
  {
   "cell_type": "code",
   "execution_count": 217,
   "metadata": {
    "collapsed": true,
    "pycharm": {
     "name": "#%%\n"
    }
   },
   "outputs": [],
   "source": [
    "import pickle\n",
    "\n",
    "import matplotlib.pyplot as plt\n",
    "import numpy as np\n",
    "import pandas as pd\n",
    "from tqdm import tqdm"
   ]
  },
  {
   "cell_type": "code",
   "execution_count": 218,
   "outputs": [],
   "source": [
    "import warnings\n",
    "warnings.simplefilter(\"ignore\", UserWarning)"
   ],
   "metadata": {
    "collapsed": false,
    "pycharm": {
     "name": "#%%\n"
    }
   }
  },
  {
   "cell_type": "code",
   "execution_count": 219,
   "outputs": [],
   "source": [
    "IN_DIR = \"\"\n",
    "OUT_DIR = \"\""
   ],
   "metadata": {
    "collapsed": false,
    "pycharm": {
     "name": "#%%\n"
    }
   }
  },
  {
   "cell_type": "code",
   "execution_count": 220,
   "outputs": [],
   "source": [
    "ptv_result = [0] * 40"
   ],
   "metadata": {
    "collapsed": false,
    "pycharm": {
     "name": "#%%\n"
    }
   }
  },
  {
   "cell_type": "code",
   "execution_count": 221,
   "outputs": [],
   "source": [
    "columns = [\"x\", \"y\", \"dx\", \"dy\", \"p0\", \"p1\"]"
   ],
   "metadata": {
    "collapsed": false,
    "pycharm": {
     "name": "#%%\n"
    }
   }
  },
  {
   "cell_type": "code",
   "execution_count": 222,
   "outputs": [
    {
     "name": "stderr",
     "output_type": "stream",
     "text": [
      "100%|██████████| 40/40 [00:00<00:00, 144.32it/s]\n"
     ]
    }
   ],
   "source": [
    "for i in tqdm(range(5100, 5500, 10)):\n",
    "    try:\n",
    "        r = pd.read_csv(\"ptv/\" + f\"pp_{i}.csv\", delimiter=',')\n",
    "        r = pd.DataFrame(data=r.values, columns=columns)\n",
    "    except StopIteration:\n",
    "        r = None\n",
    "    except OSError:\n",
    "        r = None\n",
    "\n",
    "    if r is None:\n",
    "        pass\n",
    "    else:\n",
    "        for row in r.index:\n",
    "            if (r.loc[row] == 0).all():\n",
    "                r.drop(row, axis=0, inplace=True)\n",
    "        ptv_result[(i-5100)//10] = r"
   ],
   "metadata": {
    "collapsed": false,
    "pycharm": {
     "name": "#%%\n"
    }
   }
  },
  {
   "cell_type": "code",
   "execution_count": 223,
   "outputs": [],
   "source": [
    "result = np.zeros([40, 1000, 6])  # x, y, dx, dy, p1, flag\n",
    "result[:, :, :-1] = np.nan\n",
    "p, p_max = 0, 0"
   ],
   "metadata": {
    "collapsed": false,
    "pycharm": {
     "name": "#%%\n"
    }
   }
  },
  {
   "cell_type": "code",
   "execution_count": 224,
   "outputs": [
    {
     "name": "stderr",
     "output_type": "stream",
     "text": [
      "100%|██████████| 40/40 [00:01<00:00, 24.93it/s]\n"
     ]
    }
   ],
   "source": [
    "for t in tqdm(range(40)):\n",
    "    if t == 0:\n",
    "        tmp = ptv_result[t].sort_values(by='p0', ascending=True)\n",
    "        p_max = tmp.values.shape[0]\n",
    "\n",
    "        result[t, :p_max] = np.hstack([np.hstack([tmp.values[:, :4], tmp.values[:, 5:]]), np.ones([p_max, 1])])\n",
    "\n",
    "    else:\n",
    "        tmp = ptv_result[t].sort_values(by='p0', ascending=True)\n",
    "        p = p_max\n",
    "\n",
    "        for j in range(tmp.values.shape[0]):\n",
    "            is_exist = False\n",
    "\n",
    "            for i in range(p_max):\n",
    "                if is_exist:\n",
    "                    continue\n",
    "\n",
    "                if tmp.values[j, 4] == result[t - 1, i, 4]:\n",
    "                    result[t, i, :4] = tmp.values[j, :4]\n",
    "                    result[t, i, 4] = tmp.values[j, 5]\n",
    "                    result[t, i, 5] = 1\n",
    "                    is_exist = True\n",
    "\n",
    "                elif result[t - 1, i, 4] == -1 and \\\n",
    "                    np.sqrt(\n",
    "                        (result[t - 1, i, 0] + result[t - 1, i, 2] - tmp.values[j, 0]) ** 2 + \\\n",
    "                        (result[t - 1, i, 1] + result[t - 1, i, 3] - tmp.values[j, 1]) ** 2\n",
    "                    ) < 10:\n",
    "                    result[t, i, :4] = tmp.values[j, :4]\n",
    "                    result[t, i, 4] = tmp.values[j, 5]\n",
    "                    result[t, i, 5] = 1\n",
    "                    is_exist = True\n",
    "\n",
    "            if not is_exist:\n",
    "                result[t, p, :4] = tmp.values[j, :4]\n",
    "                result[t, p, 4] = tmp.values[j, 5]\n",
    "                result[t, p, 5] = 1\n",
    "                p += 1\n",
    "\n",
    "        for i in range(p_max):\n",
    "            if result[t, i, 5] == 0:\n",
    "                result[t, i, 0] = result[t - 1, i, 0] + result[t - 1, i, 2]\n",
    "                result[t, i, 1] = result[t - 1, i, 1] + result[t - 1, i, 3]\n",
    "                result[t, i, 2:4] = result[t - 1, i, 2:4]\n",
    "                result[t, i, 4] = -1  # predict\n",
    "\n",
    "        p_max = p"
   ],
   "metadata": {
    "collapsed": false,
    "pycharm": {
     "name": "#%%\n"
    }
   }
  },
  {
   "cell_type": "code",
   "execution_count": 225,
   "outputs": [],
   "source": [
    "result = result[:, :p_max, :]"
   ],
   "metadata": {
    "collapsed": false,
    "pycharm": {
     "name": "#%%\n"
    }
   }
  },
  {
   "cell_type": "code",
   "execution_count": 226,
   "outputs": [],
   "source": [
    "for t in range(40):\n",
    "    for j in range(p_max):\n",
    "        if result[t, j, 5] == 0:\n",
    "            result[t, j, :5] = np.nan"
   ],
   "metadata": {
    "collapsed": false,
    "pycharm": {
     "name": "#%%\n"
    }
   }
  },
  {
   "cell_type": "code",
   "execution_count": 230,
   "outputs": [
    {
     "name": "stderr",
     "output_type": "stream",
     "text": [
      "/Users/loblium/opt/anaconda3/envs/venv/lib/python3.7/site-packages/matplotlib/quiver.py:661: RuntimeWarning: Mean of empty slice.\n",
      "  amean = a[~self.Umask].mean()\n",
      "/Users/loblium/opt/anaconda3/envs/venv/lib/python3.7/site-packages/numpy/core/_methods.py:189: RuntimeWarning: invalid value encountered in double_scalars\n",
      "  ret = ret.dtype.type(ret / rcount)\n"
     ]
    },
    {
     "data": {
      "text/plain": "<Figure size 720x576 with 1 Axes>",
      "image/png": "[encoded data removed]"
     },
     "metadata": {
      "needs_background": "light"
     },
     "output_type": "display_data"
    }
   ],
   "source": [
    "fig, ax = plt.subplots(figsize=(10, 8))\n",
    "\n",
    "k = 10\n",
    "\n",
    "for t in range(40):\n",
    "    # ax.scatter(result[t, k, 0], result[t, k, 1])\n",
    "    ax.quiver(result[t, k, 0], result[t, k, 1], result[t, k, 3], result[t, k, 4], color='r')\n",
    "    ax.quiver(result[t, k+3, 0], result[t, k+3, 1], result[t, k+3, 3], result[t, k+3, 4], color='g')\n",
    "    ax.quiver(result[t, k+5, 0], result[t, k+5, 1], result[t, k+5, 3], result[t, k+5, 4], color='b')\n",
    "\n",
    "plt.show()"
   ],
   "metadata": {
    "collapsed": false,
    "pycharm": {
     "name": "#%%\n"
    }
   }
  },
  {
   "cell_type": "code",
   "execution_count": 227,
   "outputs": [],
   "source": [],
   "metadata": {
    "collapsed": false,
    "pycharm": {
     "name": "#%%\n"
    }
   }
  }
 ],
 "metadata": {
  "kernelspec": {
   "display_name": "Python 3",
   "language": "python",
   "name": "python3"
  },
  "language_info": {
   "codemirror_mode": {
    "name": "ipython",
    "version": 2
   },
   "file_extension": ".py",
   "mimetype": "text/x-python",
   "name": "python",
   "nbconvert_exporter": "python",
   "pygments_lexer": "ipython2",
   "version": "2.7.6"
  }
 },
 "nbformat": 4,
 "nbformat_minor": 0
}