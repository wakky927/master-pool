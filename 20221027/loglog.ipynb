{
 "cells": [
  {
   "cell_type": "code",
   "execution_count": 44,
   "metadata": {
    "collapsed": true,
    "pycharm": {
     "name": "#%%\n"
    }
   },
   "outputs": [],
   "source": [
    "import pickle\n",
    "\n",
    "from matplotlib import pyplot as plt\n",
    "import numpy as np\n",
    "import pandas as pd\n",
    "from tqdm import tqdm"
   ]
  },
  {
   "cell_type": "code",
   "execution_count": 45,
   "outputs": [],
   "source": [
    "import warnings\n",
    "warnings.simplefilter(\"ignore\", UserWarning)\n",
    "warnings.simplefilter(\"ignore\", RuntimeWarning)"
   ],
   "metadata": {
    "collapsed": false,
    "pycharm": {
     "name": "#%%\n"
    }
   }
  },
  {
   "cell_type": "code",
   "execution_count": 46,
   "outputs": [],
   "source": [
    "ptv_result = [0] * 9"
   ],
   "metadata": {
    "collapsed": false,
    "pycharm": {
     "name": "#%%\n"
    }
   }
  },
  {
   "cell_type": "code",
   "execution_count": null,
   "outputs": [],
   "source": [
    "with open(f'ptv_cbi_q_10.pickle', mode='rb') as fp:\n",
    "    ptv_result[0] = pickle.load(fp)\n",
    "with open(f'ptv_cbi_q_20.pickle', mode='rb') as fp:\n",
    "    ptv_result[1] = pickle.load(fp)\n",
    "# with open(f'ptv_cbi_q_30.pickle', mode='rb') as fp:\n",
    "#     ptv_result[2] = pickle.load(fp)\n",
    "with open(f'ptv_cbi_q_30_high.pickle', mode='rb') as fp:\n",
    "    ptv_result[2] = pickle.load(fp)\n",
    "with open(f'ptv_rbi_q_10_1.pickle', mode='rb') as fp:\n",
    "    ptv_result[3] = pickle.load(fp)\n",
    "with open(f'ptv_rbi_q_10_2.pickle', mode='rb') as fp:\n",
    "    ptv_result[4] = pickle.load(fp)\n",
    "with open(f'ptv_rbi_q_20_1.pickle', mode='rb') as fp:\n",
    "    ptv_result[5] = pickle.load(fp)\n",
    "with open(f'ptv_rbi_q_20_2.pickle', mode='rb') as fp:\n",
    "    ptv_result[6] = pickle.load(fp)\n",
    "with open(f'ptv_rbi_q_30_1.pickle', mode='rb') as fp:\n",
    "    ptv_result[7] = pickle.load(fp)\n",
    "with open(f'ptv_rbi_q_30_2.pickle', mode='rb') as fp:\n",
    "    ptv_result[8] = pickle.load(fp)"
   ],
   "metadata": {
    "collapsed": false,
    "pycharm": {
     "name": "#%%\n"
    }
   }
  },
  {
   "cell_type": "code",
   "execution_count": null,
   "outputs": [],
   "source": [
    "for i in range(9):\n",
    "    ptv_result[i]['r'] = np.sqrt(ptv_result[i]['x']**2 + ptv_result[i]['y']**2)"
   ],
   "metadata": {
    "collapsed": false,
    "pycharm": {
     "name": "#%%\n"
    }
   }
  },
  {
   "cell_type": "code",
   "execution_count": null,
   "outputs": [],
   "source": [
    "px2mm = 1000 / np.sqrt((498 - 488)**2 + (391 - 646)**2)\n",
    "fps = 25"
   ],
   "metadata": {
    "collapsed": false,
    "pycharm": {
     "name": "#%%\n"
    }
   }
  },
  {
   "cell_type": "code",
   "execution_count": null,
   "outputs": [],
   "source": [
    "res_sort = [0] * 9\n",
    "\n",
    "for i in range(9):\n",
    "    res_sort[i] = ptv_result[i].sort_values(by='r', ascending=True).values"
   ],
   "metadata": {
    "collapsed": false,
    "pycharm": {
     "name": "#%%\n"
    }
   }
  },
  {
   "cell_type": "code",
   "execution_count": null,
   "outputs": [],
   "source": [
    "_iter = 50\n",
    "res = [0]*9\n",
    "res2 = [0]*9"
   ],
   "metadata": {
    "collapsed": false,
    "pycharm": {
     "name": "#%%\n"
    }
   }
  },
  {
   "cell_type": "code",
   "execution_count": null,
   "outputs": [],
   "source": [
    "for c in range(9):\n",
    "    r_dr_err = np.zeros((5001, 3))\n",
    "    r_dr_in = np.zeros((1, 2))\n",
    "    r_dr_err[:, :] = np.nan\n",
    "    r_dr_in[:, :] = np.nan\n",
    "\n",
    "    for i in tqdm(range(0, 5001, _iter)):\n",
    "        res_sort_l = res_sort[c][np.where(res_sort[c][:, 4] >= i/10)]\n",
    "        res_sort_lr = res_sort_l[np.where(res_sort_l[:, 4] < (i+_iter)/10)]\n",
    "        columns = ['x', 'y', 'dx', 'dy', 'r', 'theta', 'dr']\n",
    "        df = pd.DataFrame(data=res_sort_lr, columns=columns, dtype='float')\n",
    "        q1 = df['dr'].quantile(0.25)\n",
    "        q2 = df['dr'].quantile(0.75)\n",
    "        iqr = q2 - q1\n",
    "\n",
    "        upper = q2 + 1.5 * iqr\n",
    "        bottom = q1 - 1.5 * iqr\n",
    "        _in = df[(df['dr'] >= bottom) & (df['dr'] <= upper)].values\n",
    "        tmp = np.array([_in[:, 4], _in[:, 6]]).T\n",
    "        r_dr_in = np.vstack([r_dr_in, tmp])\n",
    "\n",
    "        r_dr_err[i, 0] = i\n",
    "        r_dr_err[i, 1] = np.mean(tmp, axis=0)[1]\n",
    "        r_dr_err[i, 2] = np.std(tmp, axis=0)[1]\n",
    "\n",
    "    r_dr_err = r_dr_err[::_iter]\n",
    "    res[c] = r_dr_err\n",
    "    res2[c] = r_dr_in"
   ],
   "metadata": {
    "collapsed": false,
    "pycharm": {
     "name": "#%%\n"
    }
   }
  },
  {
   "cell_type": "code",
   "execution_count": null,
   "outputs": [],
   "source": [
    "fig, ax = plt.subplots(figsize=(10, 8))\n",
    "ax.scatter(res[0][:-25, 0]*px2mm/10, res[0][:-25, 1]*px2mm*fps)\n",
    "plt.show()"
   ],
   "metadata": {
    "collapsed": false,
    "pycharm": {
     "name": "#%%\n"
    }
   }
  },
  {
   "cell_type": "code",
   "execution_count": null,
   "outputs": [],
   "source": [
    "fig, ax = plt.subplots(figsize=(10, 8))\n",
    "ax.set_yscale(\"log\")\n",
    "plt.xlabel(\"r [m]\")\n",
    "plt.ylabel(\"u_r [m/s]\")\n",
    "ax.scatter(res[0][:-25, 0]*px2mm/10/1e3, res[0][:-25, 1]*px2mm*fps/1e3)\n",
    "ax.scatter(res[1][:-25, 0]*px2mm/10/1e3, res[1][:-25, 1]*px2mm*fps/1e3)\n",
    "ax.scatter(res[2][:-25, 0]*px2mm/10/1e3, res[2][:-25, 1]*px2mm*fps/1e3)\n",
    "plt.show()\n",
    "fig.savefig(\"semi-log.png\")"
   ],
   "metadata": {
    "collapsed": false,
    "pycharm": {
     "name": "#%%\n"
    }
   }
  },
  {
   "cell_type": "code",
   "execution_count": null,
   "outputs": [],
   "source": [
    "fig, ax = plt.subplots(figsize=(10, 8))\n",
    "ax.set_xscale(\"log\")\n",
    "plt.xlabel(\"r [m]\")\n",
    "plt.ylabel(\"u_r [m/s]\")\n",
    "ax.scatter(res[0][:-25, 0]*px2mm/10/1e3, res[0][:-25, 1]*px2mm*fps/1e3, c='b')\n",
    "ax.scatter(res[1][:-25, 0]*px2mm/10/1e3, res[1][:-25, 1]*px2mm*fps/1e3, c='g')\n",
    "ax.scatter(res[2][:-25, 0]*px2mm/10/1e3, res[2][:-25, 1]*px2mm*fps/1e3, c='r')\n",
    "ax.vlines(0.4, -0.15, 0.45, colors='k')\n",
    "ax.vlines(1.5, -0.15, 0.45, colors='k')\n",
    "plt.show()"
   ],
   "metadata": {
    "collapsed": false,
    "pycharm": {
     "name": "#%%\n"
    }
   }
  },
  {
   "cell_type": "code",
   "execution_count": null,
   "outputs": [],
   "source": [
    "fig, ax = plt.subplots(figsize=(10, 8))\n",
    "ax.set_xscale(\"log\")\n",
    "ax.set_yscale(\"log\")\n",
    "plt.xlabel(\"r [m]\")\n",
    "plt.ylabel(\"u_r [m/s]\")\n",
    "ax.scatter(res[0][:-25, 0]*px2mm/10/1e3, res[0][:-25, 1]*px2mm*fps/1e3, c='b')\n",
    "ax.scatter(res[1][:-25, 0]*px2mm/10/1e3, res[1][:-25, 1]*px2mm*fps/1e3, c='g')\n",
    "ax.scatter(res[2][:-25, 0]*px2mm/10/1e3, res[2][:-25, 1]*px2mm*fps/1e3, c='r')\n",
    "ax.vlines(0.4, -0.15, 0.45, colors='k')\n",
    "ax.vlines(1.5, -0.15, 0.45, colors='k')\n",
    "plt.show()\n",
    "fig.savefig(\"loglog2.png\")"
   ],
   "metadata": {
    "collapsed": false,
    "pycharm": {
     "name": "#%%\n"
    }
   }
  },
  {
   "cell_type": "code",
   "execution_count": null,
   "outputs": [],
   "source": [
    "fig, ax = plt.subplots(figsize=(10, 8))\n",
    "ax.set_xscale(\"log\")\n",
    "ax.set_yscale(\"log\")\n",
    "plt.xlabel(\"r [m]\")\n",
    "plt.ylabel(\"u_r [m/s]\")\n",
    "# plt.xlim(0.1, 10)\n",
    "ax.scatter(res[0][20:-25, 0]*px2mm/10/1e3, res[0][20:-25, 1]*px2mm*fps/1e3, c='b')\n",
    "ax.scatter(res[1][20:-25, 0]*px2mm/10/1e3, res[1][20:-25, 1]*px2mm*fps/1e3, c='g')\n",
    "ax.scatter(res[2][20:-25, 0]*px2mm/10/1e3, res[2][20:-25, 1]*px2mm*fps/1e3, c='r')\n",
    "ax.plot(np.linspace(0.4, 1.4, 100), 1 / np.linspace(0.4, 1.4, 100), c='k', linestyle='-')\n",
    "ax.plot(np.linspace(0.4, 1.4, 100), 0.4 / np.linspace(0.4, 1.4, 100)**2, c='k', linestyle='--')\n",
    "plt.show()\n",
    "fig.savefig(\"loglog3.png\")"
   ],
   "metadata": {
    "collapsed": false,
    "pycharm": {
     "name": "#%%\n"
    }
   }
  },
  {
   "cell_type": "code",
   "execution_count": null,
   "outputs": [],
   "source": [
    "fig, ax = plt.subplots(figsize=(10, 8))\n",
    "ax.set_xscale(\"log\")\n",
    "ax.set_yscale(\"log\")\n",
    "plt.xlabel(\"r [m]\")\n",
    "plt.ylabel(\"u_r [m/s]\")\n",
    "ax.scatter(res[0][20:-25, 0]*px2mm/10/1e3, res[0][20:-25, 1]*px2mm*fps/1e3, c='b', zorder=10)\n",
    "ax.plot(np.linspace(0.4, 2, 100), 1 / np.linspace(0.4, 2, 100) * 0.11, c='k', linestyle='-')\n",
    "ax.plot(np.linspace(0.4, 2, 100), 1 / np.linspace(0.4, 2, 100)**2 * 0.11, c='k', linestyle='--')\n",
    "plt.show()\n",
    "fig.savefig(\"loglog4.png\")"
   ],
   "metadata": {
    "collapsed": false,
    "pycharm": {
     "name": "#%%\n"
    }
   }
  },
  {
   "cell_type": "code",
   "execution_count": null,
   "outputs": [],
   "source": [
    "fig, ax = plt.subplots(figsize=(10, 8))\n",
    "ax.set_xscale(\"log\")\n",
    "ax.set_yscale(\"log\")\n",
    "plt.xlabel(\"r [m]\")\n",
    "plt.ylabel(\"u_r [m/s]\")\n",
    "ax.scatter(res[1][20:-25, 0]*px2mm/10/1e3, res[1][20:-25, 1]*px2mm*fps/1e3, c='g', zorder=10)\n",
    "ax.plot(np.linspace(0.4, 2, 100), 1 / np.linspace(0.4, 2, 100) * 0.14, c='k', linestyle='-')\n",
    "ax.plot(np.linspace(0.4, 2, 100), 1 / np.linspace(0.4, 2, 100)**2 * 0.13, c='k', linestyle='--')\n",
    "plt.show()\n",
    "fig.savefig(\"loglog5.png\")"
   ],
   "metadata": {
    "collapsed": false,
    "pycharm": {
     "name": "#%%\n"
    }
   }
  },
  {
   "cell_type": "code",
   "execution_count": null,
   "outputs": [],
   "source": [
    "fig, ax = plt.subplots(figsize=(10, 8))\n",
    "ax.set_xscale(\"log\")\n",
    "ax.set_yscale(\"log\")\n",
    "plt.xlabel(\"r [m]\")\n",
    "plt.ylabel(\"u_r [m/s]\")\n",
    "ax.scatter(res[2][20:-25, 0]*px2mm/10/1e3, res[2][20:-25, 1]*px2mm*fps/1e3, c='r', zorder=10)\n",
    "ax.plot(np.linspace(0.4, 2, 100), 1 / np.linspace(0.4, 2, 100) * 0.15, c='k', linestyle='-')\n",
    "ax.plot(np.linspace(0.4, 2, 100), 1 / np.linspace(0.4, 2, 100)**2 * 0.15, c='k', linestyle='--')\n",
    "plt.show()\n",
    "fig.savefig(\"loglog6.png\")"
   ],
   "metadata": {
    "collapsed": false,
    "pycharm": {
     "name": "#%%\n"
    }
   }
  }
 ],
 "metadata": {
  "kernelspec": {
   "display_name": "Python 3",
   "language": "python",
   "name": "python3"
  },
  "language_info": {
   "codemirror_mode": {
    "name": "ipython",
    "version": 2
   },
   "file_extension": ".py",
   "mimetype": "text/x-python",
   "name": "python",
   "nbconvert_exporter": "python",
   "pygments_lexer": "ipython2",
   "version": "2.7.6"
  }
 },
 "nbformat": 4,
 "nbformat_minor": 0
}