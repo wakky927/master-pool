{
 "cells": [
  {
   "cell_type": "code",
   "execution_count": 12,
   "metadata": {
    "collapsed": true,
    "pycharm": {
     "name": "#%%\n"
    }
   },
   "outputs": [],
   "source": [
    "from collections import deque\n",
    "\n",
    "import cv2\n",
    "import numpy as np\n",
    "from matplotlib import pyplot as plt\n",
    "from tqdm import tqdm"
   ]
  },
  {
   "cell_type": "code",
   "execution_count": 13,
   "outputs": [],
   "source": [
    "IN_DIR = \"D:\\\\pool\\\\20221027_wada\\\\\"\n",
    "OUT_DIR = \"D:\\\\result\\\\20221027\\\\\"\n",
    "sub_dir_list = [\n",
    "    \"cbi_10Lmin_1_C001H001S0001\",\n",
    "    \"cbi_20Lmin_1_C001H001S0001\",\n",
    "    \"cbi_30Lmin_1_C001H001S0001\",\n",
    "    \"rbi_10Lmin_1_C001H001S0001\",\n",
    "    \"rbi_10Lmin_2_C001H001S0001\",\n",
    "    \"rbi_20Lmin_1_C001H001S0001\",\n",
    "    \"rbi_20Lmin_2_C001H001S0001\",\n",
    "    \"rbi_30Lmin_1_C001H001S0001\",\n",
    "    \"rbi_30Lmin_2_C001H001S0001\",\n",
    "    \"rbi_30Lmin_05_1_C001H001S0001\",\n",
    "    \"rbi_30Lmin_05_2_C001H001S0001\",\n",
    "]\n",
    "sub_dir_list2 = [\n",
    "    \"cbi_q_10\\\\1\\\\\",\n",
    "    \"cbi_q_20\\\\1\\\\\",\n",
    "    \"cbi_q_30\\\\1\\\\\",\n",
    "    \"rbi_q_10\\\\1\\\\\",\n",
    "    \"rbi_q_10\\\\2\\\\\",\n",
    "    \"rbi_q_20\\\\1\\\\\",\n",
    "    \"rbi_q_20\\\\2\\\\\",\n",
    "    \"rbi_q_30\\\\1\\\\\",\n",
    "    \"rbi_q_30\\\\2\\\\\",\n",
    "    \"rbi_q_30_05\\\\1\\\\\",\n",
    "    \"rbi_q_30_05\\\\2\\\\\",\n",
    "]"
   ],
   "metadata": {
    "collapsed": false,
    "pycharm": {
     "name": "#%%\n"
    }
   }
  },
  {
   "cell_type": "code",
   "execution_count": 14,
   "outputs": [],
   "source": [
    "p_original = np.float32([[380, 391], [598, 391], [322, 457], [668, 457]])\n",
    "p_trans = np.float32([[380, 391], [598, 391], [380, 580], [598, 580]])\n",
    "M = cv2.getPerspectiveTransform(p_original, p_trans)"
   ],
   "metadata": {
    "collapsed": false,
    "pycharm": {
     "name": "#%%\n"
    }
   }
  },
  {
   "cell_type": "code",
   "execution_count": 15,
   "outputs": [],
   "source": [
    "def preprocessing_2(img):\n",
    "    img = cv2.warpPerspective(img, M, (1000, 1000))\n",
    "    _, img = cv2.threshold(img[300:800, :], 160, 255, cv2.THRESH_BINARY)\n",
    "    retval, labels, stats, centroids = cv2.connectedComponentsWithStats(img)\n",
    "\n",
    "    return img, centroids"
   ],
   "metadata": {
    "collapsed": false,
    "pycharm": {
     "name": "#%%\n"
    }
   }
  },
  {
   "cell_type": "code",
   "execution_count": 16,
   "outputs": [
    {
     "name": "stderr",
     "output_type": "stream",
     "text": [
      "100%|██████████| 10899/10899 [01:44<00:00, 104.63it/s]\n",
      "100%|██████████| 10899/10899 [04:01<00:00, 45.20it/s]\n",
      "100%|██████████| 10899/10899 [03:59<00:00, 45.55it/s]\n",
      "100%|██████████| 10899/10899 [03:59<00:00, 45.57it/s]\n",
      "100%|██████████| 10899/10899 [03:56<00:00, 46.07it/s]\n",
      "100%|██████████| 10899/10899 [03:54<00:00, 46.47it/s]\n",
      "100%|██████████| 10899/10899 [03:57<00:00, 45.82it/s]\n",
      "100%|██████████| 10899/10899 [03:53<00:00, 46.70it/s]\n",
      "100%|██████████| 10899/10899 [03:53<00:00, 46.73it/s]\n",
      "100%|██████████| 10899/10899 [03:51<00:00, 47.08it/s]\n",
      "100%|██████████| 10899/10899 [03:49<00:00, 47.39it/s]\n"
     ]
    }
   ],
   "source": [
    "for d in range(11):\n",
    "    for i in tqdm(range(1, 10900)):\n",
    "        dst, res = preprocessing_2(img=cv2.imread(IN_DIR + sub_dir_list[d] + \"\\\\\" + sub_dir_list[d] + f\"{i:06}\" + \".bmp\", 0))\n",
    "        cv2.imwrite(OUT_DIR + \"img\\\\\" + sub_dir_list2[d] + f\"{i}.png\", dst)\n",
    "        np.savetxt(OUT_DIR + \"pp\\\\\" + sub_dir_list2[d] + f\"pp_{i}.csv\", res[1:], delimiter=',')"
   ],
   "metadata": {
    "collapsed": false,
    "pycharm": {
     "name": "#%%\n"
    }
   }
  },
  {
   "cell_type": "code",
   "execution_count": 16,
   "outputs": [],
   "source": [],
   "metadata": {
    "collapsed": false,
    "pycharm": {
     "name": "#%%\n"
    }
   }
  }
 ],
 "metadata": {
  "kernelspec": {
   "display_name": "Python 3",
   "language": "python",
   "name": "python3"
  },
  "language_info": {
   "codemirror_mode": {
    "name": "ipython",
    "version": 2
   },
   "file_extension": ".py",
   "mimetype": "text/x-python",
   "name": "python",
   "nbconvert_exporter": "python",
   "pygments_lexer": "ipython2",
   "version": "2.7.6"
  }
 },
 "nbformat": 4,
 "nbformat_minor": 0
}