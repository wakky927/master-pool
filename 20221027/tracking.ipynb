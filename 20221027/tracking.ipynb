{
 "cells": [
  {
   "cell_type": "code",
   "execution_count": 14,
   "metadata": {
    "collapsed": true,
    "pycharm": {
     "name": "#%%\n"
    }
   },
   "outputs": [],
   "source": [
    "import numpy as np\n",
    "import pandas as pd\n",
    "from tqdm import tqdm"
   ]
  },
  {
   "cell_type": "code",
   "execution_count": 15,
   "outputs": [],
   "source": [
    "import warnings\n",
    "warnings.simplefilter(\"ignore\", UserWarning)"
   ],
   "metadata": {
    "collapsed": false,
    "pycharm": {
     "name": "#%%\n"
    }
   }
  },
  {
   "cell_type": "code",
   "execution_count": 22,
   "outputs": [],
   "source": [
    "result = np.zeros([100000, 6, 500])\n",
    "result[:, :, :] = np.nan\n",
    "jj_max = 0"
   ],
   "metadata": {
    "collapsed": false,
    "pycharm": {
     "name": "#%%\n"
    }
   }
  },
  {
   "cell_type": "code",
   "execution_count": 23,
   "outputs": [],
   "source": [
    "def remove_all_zero_row(df):\n",
    "    df = df.copy()\n",
    "    for row in df.index:\n",
    "        if (df.loc[row] == 0.0).all():\n",
    "            df.drop(row, axis=0, inplace=True)\n",
    "    return df"
   ],
   "metadata": {
    "collapsed": false,
    "pycharm": {
     "name": "#%%\n"
    }
   }
  },
  {
   "cell_type": "code",
   "execution_count": 24,
   "outputs": [
    {
     "name": "stderr",
     "output_type": "stream",
     "text": [
      "100%|██████████| 50/50 [00:00<00:00, 55.37it/s] \n"
     ]
    }
   ],
   "source": [
    "is_zero = True\n",
    "for t in range(1, 2):  # 11\n",
    "    for i in tqdm(range(5000, 5500, 10)):  # t, 10900\n",
    "        try:\n",
    "            ptv_result = pd.read_csv(f\"ptv/pp_{i}.csv\")\n",
    "        except StopIteration:\n",
    "            continue\n",
    "        except FileNotFoundError:\n",
    "            continue\n",
    "\n",
    "        ptv_result = ptv_result.values\n",
    "\n",
    "        if is_zero:\n",
    "            is_zero = False\n",
    "            result[:ptv_result.shape[0], :, i-5000] = ptv_result\n",
    "            jj_max = ptv_result.shape[0]\n",
    "            continue\n",
    "\n",
    "        for j in range(ptv_result.shape[0]):\n",
    "            is_exist = False\n",
    "\n",
    "            for jj in range(jj_max):\n",
    "                if ptv_result[j, 4] == result[jj, 5, i-5000-10]:\n",
    "                    result[jj, :, i-5000] = ptv_result[j]\n",
    "                    is_exist = True\n",
    "\n",
    "            if not is_exist:\n",
    "                result[jj_max, :, i-5000] = ptv_result[j]\n",
    "                jj_max += 1"
   ],
   "metadata": {
    "collapsed": false,
    "pycharm": {
     "name": "#%%\n"
    }
   }
  },
  {
   "cell_type": "code",
   "execution_count": 18,
   "outputs": [],
   "source": [],
   "metadata": {
    "collapsed": false,
    "pycharm": {
     "name": "#%%\n"
    }
   }
  }
 ],
 "metadata": {
  "kernelspec": {
   "display_name": "Python 3",
   "language": "python",
   "name": "python3"
  },
  "language_info": {
   "codemirror_mode": {
    "name": "ipython",
    "version": 2
   },
   "file_extension": ".py",
   "mimetype": "text/x-python",
   "name": "python",
   "nbconvert_exporter": "python",
   "pygments_lexer": "ipython2",
   "version": "2.7.6"
  }
 },
 "nbformat": 4,
 "nbformat_minor": 0
}