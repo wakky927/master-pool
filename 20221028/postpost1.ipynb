{
 "cells": [
  {
   "cell_type": "code",
   "execution_count": 14,
   "metadata": {
    "collapsed": true,
    "pycharm": {
     "name": "#%%\n"
    }
   },
   "outputs": [],
   "source": [
    "import pickle\n",
    "\n",
    "import numpy as np\n",
    "from matplotlib import pyplot as plt\n",
    "import pandas as pd\n",
    "from tqdm import tqdm"
   ]
  },
  {
   "cell_type": "code",
   "execution_count": 15,
   "outputs": [],
   "source": [
    "import warnings\n",
    "warnings.simplefilter(\"ignore\", UserWarning)\n",
    "warnings.simplefilter(\"ignore\", RuntimeWarning)"
   ],
   "metadata": {
    "collapsed": false,
    "pycharm": {
     "name": "#%%\n"
    }
   }
  },
  {
   "cell_type": "code",
   "execution_count": null,
   "outputs": [],
   "source": [
    "# import time\n",
    "#\n",
    "# time.sleep(4 * 3600)"
   ],
   "metadata": {
    "collapsed": false,
    "pycharm": {
     "name": "#%%\n",
     "is_executing": true
    }
   }
  },
  {
   "cell_type": "code",
   "execution_count": null,
   "outputs": [],
   "source": [
    "IN_DIR = \"E:\\\\M2\\\\result\\\\20221028\\\\\"\n",
    "OUT_DIR = \"E:\\\\M2\\\\result\\\\20221028\\\\\"\n",
    "sub_dir_list = [\n",
    "    \"dual_1_low\\\\1\\\\\",\n",
    "    \"dual_1_low\\\\2\\\\\",\n",
    "    \"dual_1_low\\\\3\\\\\",\n",
    "    \"dual_1_low\\\\4\\\\\",\n",
    "    \"dual_1_low\\\\5\\\\\",\n",
    "    \"dual_1_low\\\\6\\\\\",\n",
    "]\n",
    "sub_dir_list2 = [\n",
    "    \"dual_1\\\\1\\\\\",\n",
    "    \"dual_1\\\\2\\\\\",\n",
    "    \"dual_1\\\\3\\\\\",\n",
    "    \"dual_1\\\\4\\\\\",\n",
    "    \"dual_1\\\\5\\\\\",\n",
    "    \"dual_1\\\\6\\\\\",\n",
    "]"
   ],
   "metadata": {
    "collapsed": false,
    "pycharm": {
     "name": "#%%\n",
     "is_executing": true
    }
   }
  },
  {
   "cell_type": "code",
   "execution_count": null,
   "outputs": [],
   "source": [
    "time_table = pd.read_csv(\"time1.csv\", header=None, index_col=0)\n",
    "time_table = time_table.values.astype(np.int64)"
   ],
   "metadata": {
    "collapsed": false,
    "pycharm": {
     "name": "#%%\n",
     "is_executing": true
    }
   }
  },
  {
   "cell_type": "code",
   "execution_count": null,
   "outputs": [],
   "source": [
    "ptv_result = np.zeros((1, 6))\n",
    "ptv_result2 = np.zeros((1, 6))"
   ],
   "metadata": {
    "collapsed": false,
    "pycharm": {
     "name": "#%%\n",
     "is_executing": true
    }
   }
  },
  {
   "cell_type": "code",
   "execution_count": null,
   "outputs": [],
   "source": [
    "for d in range(0, 6):\n",
    "    for i in tqdm(range(0, 10900)):\n",
    "        for j in range(21):\n",
    "            if time_table[d, 2 * j] <= i < time_table[d, 2 * j + 1]:\n",
    "                try:\n",
    "                    tmp = np.loadtxt(OUT_DIR + \"ptv\\\\\" + sub_dir_list[d] + f\"pp_{i}.csv\", delimiter=',', skiprows=1)\n",
    "                except StopIteration:\n",
    "                    tmp = None\n",
    "                except OSError:\n",
    "                    tmp = None\n",
    "\n",
    "                if tmp is None:\n",
    "                    pass\n",
    "                elif tmp.ndim == 1:\n",
    "                    if len(tmp) > 0:\n",
    "                        tmp = tmp[np.newaxis, :]\n",
    "                    else:\n",
    "                        tmp = None\n",
    "                elif tmp.ndim == 2:\n",
    "                    pass\n",
    "                else:\n",
    "                    tmp = None\n",
    "\n",
    "                if tmp is None:\n",
    "                    pass\n",
    "                else:\n",
    "                    ptv_result = np.vstack([ptv_result, tmp])"
   ],
   "metadata": {
    "collapsed": false,
    "pycharm": {
     "name": "#%%\n",
     "is_executing": true
    }
   }
  },
  {
   "cell_type": "code",
   "execution_count": null,
   "outputs": [],
   "source": [
    "for d in range(0, 6):\n",
    "    for i in tqdm(range(0, 10900)):\n",
    "        for j in range(21):\n",
    "            if time_table[d, 2 * j] <= i < time_table[d, 2 * j + 1]:\n",
    "                try:\n",
    "                    tmp = np.loadtxt(OUT_DIR + \"ptv\\\\\" + sub_dir_list2[d] + f\"pp_{i}.csv\", delimiter=',', skiprows=1)\n",
    "                except StopIteration:\n",
    "                    tmp = None\n",
    "                except OSError:\n",
    "                    tmp = None\n",
    "\n",
    "                if tmp is None:\n",
    "                    pass\n",
    "                elif tmp.ndim == 1:\n",
    "                    if len(tmp) > 0:\n",
    "                        tmp = tmp[np.newaxis, :]\n",
    "                    else:\n",
    "                        tmp = None\n",
    "                elif tmp.ndim == 2:\n",
    "                    pass\n",
    "                else:\n",
    "                    tmp = None\n",
    "\n",
    "                if tmp is None:\n",
    "                    pass\n",
    "                else:\n",
    "                    ptv_result2 = np.vstack([ptv_result2, tmp])"
   ],
   "metadata": {
    "collapsed": false,
    "pycharm": {
     "name": "#%%\n",
     "is_executing": true
    }
   }
  },
  {
   "cell_type": "code",
   "execution_count": null,
   "outputs": [],
   "source": [
    "fig, ax = plt.subplots(figsize=(20, 12))\n",
    "# plt.xlim(-1025, 975)\n",
    "# plt.ylim(-1050, 250)\n",
    "ax.hlines(0, -440, -470, color='k')\n",
    "ax.vlines(-455, -15, 15, color='k')\n",
    "ax.hlines(0, 440, 470, color='k')\n",
    "ax.vlines(455, -15, 15, color='k')\n",
    "\n",
    "c = ax.quiver(ptv_result[:, 0]-1025, -ptv_result[:, 1]+250, ptv_result[:, 2], -ptv_result[:, 3], np.sqrt(ptv_result[:, 2]**2 + ptv_result[:, 3]**2), cmap=\"jet\")\n",
    "\n",
    "fig.colorbar(c)\n",
    "plt.show()"
   ],
   "metadata": {
    "collapsed": false,
    "pycharm": {
     "name": "#%%\n",
     "is_executing": true
    }
   }
  },
  {
   "cell_type": "code",
   "execution_count": null,
   "outputs": [],
   "source": [
    "fig, ax = plt.subplots(figsize=(20, 12))\n",
    "# plt.xlim(-1025, 975)\n",
    "# plt.ylim(-1050, 250)\n",
    "ax.hlines(0, -440, -470, color='k')\n",
    "ax.vlines(-455, -15, 15, color='k')\n",
    "ax.hlines(0, 440, 470, color='k')\n",
    "ax.vlines(455, -15, 15, color='k')\n",
    "\n",
    "c = ax.quiver(ptv_result2[:, 0]-1025, -ptv_result2[:, 1]+250, ptv_result2[:, 2], -ptv_result2[:, 3], np.sqrt(ptv_result2[:, 2]**2 + ptv_result2[:, 3]**2), cmap=\"jet\")\n",
    "\n",
    "fig.colorbar(c)\n",
    "plt.show()"
   ],
   "metadata": {
    "collapsed": false,
    "pycharm": {
     "name": "#%%\n",
     "is_executing": true
    }
   }
  },
  {
   "cell_type": "code",
   "execution_count": null,
   "outputs": [],
   "source": [
    "ptv_result = pd.DataFrame(ptv_result, columns=['x', 'y', 'dx', 'dy', 'p0', 'p1'])\n",
    "for row in tqdm(ptv_result.index):\n",
    "    if (ptv_result.loc[row] == 0).all():\n",
    "        ptv_result.drop(row, axis=0, inplace=True)"
   ],
   "metadata": {
    "collapsed": false,
    "pycharm": {
     "name": "#%%\n",
     "is_executing": true
    }
   }
  },
  {
   "cell_type": "code",
   "execution_count": null,
   "outputs": [],
   "source": [
    "ptv_result2 = pd.DataFrame(ptv_result2, columns=['x', 'y', 'dx', 'dy', 'p0', 'p1'])\n",
    "for row in tqdm(ptv_result2.index):\n",
    "    if (ptv_result2.loc[row] == 0).all():\n",
    "        ptv_result2.drop(row, axis=0, inplace=True)"
   ],
   "metadata": {
    "collapsed": false,
    "pycharm": {
     "name": "#%%\n",
     "is_executing": true
    }
   }
  },
  {
   "cell_type": "code",
   "execution_count": null,
   "outputs": [],
   "source": [
    "with open(f'ptv_result_large_low1.pickle', mode='wb') as fp:\n",
    "    pickle.dump(ptv_result, fp)"
   ],
   "metadata": {
    "collapsed": false,
    "pycharm": {
     "name": "#%%\n",
     "is_executing": true
    }
   }
  },
  {
   "cell_type": "code",
   "execution_count": null,
   "outputs": [],
   "source": [
    "with open(f'ptv_result_large_high1.pickle', mode='wb') as fp:\n",
    "    pickle.dump(ptv_result2, fp)"
   ],
   "metadata": {
    "collapsed": false,
    "pycharm": {
     "name": "#%%\n",
     "is_executing": true
    }
   }
  }
 ],
 "metadata": {
  "kernelspec": {
   "display_name": "Python 3",
   "language": "python",
   "name": "python3"
  },
  "language_info": {
   "codemirror_mode": {
    "name": "ipython",
    "version": 2
   },
   "file_extension": ".py",
   "mimetype": "text/x-python",
   "name": "python",
   "nbconvert_exporter": "python",
   "pygments_lexer": "ipython2",
   "version": "2.7.6"
  }
 },
 "nbformat": 4,
 "nbformat_minor": 0
}