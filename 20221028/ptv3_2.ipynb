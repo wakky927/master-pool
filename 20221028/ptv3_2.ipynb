{
 "cells": [
  {
   "cell_type": "code",
   "execution_count": null,
   "outputs": [],
   "source": [
    "from collections import deque\n",
    "\n",
    "import numpy as np\n",
    "from matplotlib import pyplot as plt\n",
    "from tqdm import tqdm"
   ],
   "metadata": {
    "collapsed": false,
    "pycharm": {
     "name": "#%%\n"
    }
   }
  },
  {
   "cell_type": "code",
   "execution_count": null,
   "outputs": [],
   "source": [
    "import warnings\n",
    "warnings.simplefilter(\"ignore\", UserWarning)\n",
    "warnings.simplefilter(\"ignore\", RuntimeWarning)"
   ],
   "metadata": {
    "collapsed": false,
    "pycharm": {
     "name": "#%%\n"
    }
   }
  },
  {
   "cell_type": "code",
   "execution_count": null,
   "outputs": [],
   "source": [
    "IN_DIR = \"E:\\\\M2\\\\result\\\\20221028\\\\\"\n",
    "OUT_DIR = \"E:\\\\M2\\\\result\\\\20221028\\\\\"\n",
    "sub_dir_list = [\n",
    "    \"dual_2\\\\1\\\\\",\n",
    "    \"dual_2\\\\2\\\\\",\n",
    "    \"dual_2\\\\3\\\\\",\n",
    "    \"dual_2\\\\4\\\\\",\n",
    "    \"dual_2\\\\5\\\\\",\n",
    "]"
   ],
   "metadata": {
    "collapsed": false,
    "pycharm": {
     "name": "#%%\n"
    }
   }
  },
  {
   "cell_type": "code",
   "execution_count": null,
   "outputs": [],
   "source": [
    "class Vector2D(object):\n",
    "    def __init__(self, idx):\n",
    "        self.idx = idx\n",
    "        self.x = 0.0\n",
    "        self.y = 0.0\n",
    "\n",
    "\n",
    "class Gap(object):\n",
    "    def __init__(self, idx):\n",
    "        self.idx = idx\n",
    "        self.gap = 0.0\n",
    "        self.angle = 0.0\n",
    "\n",
    "\n",
    "class TP(object):\n",
    "    def __init__(self, idx):\n",
    "        self.idx = idx\n",
    "        self.p0 = 0\n",
    "        self.p1 = 0\n",
    "        self.err = 0.0\n",
    "        self.flag = False\n",
    "\n",
    "\n",
    "def calc_gap(dx1, dx2):\n",
    "    gx = Vector2D\n",
    "    dst = Gap\n",
    "\n",
    "    gx.x = dx2.x - dx1.x\n",
    "    gx.y = dx2.y - dx1.y\n",
    "    dst.gap = np.sqrt(gx.x ** 2 + gx.y ** 2)\n",
    "\n",
    "    in_prod = dx1.x * dx2.x + dx1.y * dx2.y\n",
    "    if np.sqrt(dx1.x ** 2 + dx1.y ** 2) * np.sqrt(dx2.x ** 2 + dx2.y ** 2) == 0:\n",
    "        in_prod /= 1e-8\n",
    "    else:\n",
    "        in_prod /= np.sqrt(dx1.x ** 2 + dx1.y ** 2) * np.sqrt(dx2.x ** 2 + dx2.y ** 2)\n",
    "\n",
    "    if np.abs(in_prod) > 1.0: in_prod /= np.abs(in_prod)\n",
    "\n",
    "    dst.angle = np.arccos(in_prod)\n",
    "\n",
    "    out_prod = dx1.x * dx2.y - dx1.y * dx2.x\n",
    "    if out_prod < 0: dst.angle *= -1\n",
    "\n",
    "    return dst, in_prod, out_prod\n",
    "\n",
    "\n",
    "def ptv3t(img):\n",
    "    pp0, pp1, pp2 = img[0], img[1], img[2]\n",
    "\n",
    "    if pp0 is None or pp1 is None or pp2 is None:\n",
    "        return None\n",
    "\n",
    "    result = np.zeros([pp0.shape[0], 6])\n",
    "\n",
    "    dx = [Vector2D(idx=x) for x in range(2)]\n",
    "    dst = [Gap(idx=x) for x in range(1)]\n",
    "    pp01 = [TP(idx=x) for x in range(pp0.shape[0])]\n",
    "    s1, s2 = 20, 10  # 1st, 2nd search window\n",
    "    eta = 15 * np.pi / 180  # criterion on angle\n",
    "    npa = -1  # the number of available particle\n",
    "    ntsp = 0  # the number for tracking the same particle\n",
    "\n",
    "    # 3 times tracking\n",
    "    for ii in range(pp0.shape[0]):  # Target (= 0th)\n",
    "        flag = True  # init flag for the particle tracking\n",
    "        cf, cfc = 1e10, 1e10  # arbitrary large number\n",
    "\n",
    "        for jj in range(pp1.shape[0]):  # 1st\n",
    "            dx[0].x = pp1[jj][0] - pp0[ii][0]\n",
    "            dx[0].y = pp1[jj][1] - pp0[ii][1]\n",
    "\n",
    "            if np.sqrt(dx[0].x ** 2 + dx[0].y ** 2) <= s1:\n",
    "                for kk in range(pp2.shape[0]):  # 2nd\n",
    "                    dx[1].x = pp2[kk][0] - pp1[jj][0]\n",
    "                    dx[1].y = pp2[kk][1] - pp1[jj][1]\n",
    "\n",
    "                    dst[0], ip0, op0 = calc_gap(dx[0], dx[1])\n",
    "                    cfc = dst[0].gap ** 2\n",
    "\n",
    "                    if dst[0].gap <= s2 and np.abs(dst[0].angle) <= eta and cfc < cf:\n",
    "                        cf = cfc\n",
    "                        if flag: npa += 1\n",
    "\n",
    "                        pp01[npa].p0 = ii\n",
    "                        pp01[npa].p1 = jj\n",
    "                        pp01[npa].err = cf\n",
    "                        pp01[npa].flag = True\n",
    "                        flag = False\n",
    "\n",
    "    # post-processing\n",
    "    # If different particles track the same particle,\n",
    "    # giving an error flag to particle which has larger error.\n",
    "    for ii in range(npa):\n",
    "        if pp01[ii].flag:\n",
    "            for jj in range(ii + 1, npa):\n",
    "                if pp01[ii].p1 == pp01[jj].p1:\n",
    "                    if pp01[ii].err > pp01[jj].err:\n",
    "                        pp01[ii].flag = False\n",
    "                        ntsp += 1\n",
    "                        break\n",
    "                    else:\n",
    "                        pp01[jj].flag = False\n",
    "                        ntsp += 1\n",
    "\n",
    "    # for debug\n",
    "    # print(f\"The number for tracking the same particle: {ntsp}\")\n",
    "    # print(f\"The number of remaining particle by post processing: {npa - ntsp}\\n\")\n",
    "\n",
    "    for ii in range(npa):\n",
    "        if pp01[ii].flag:\n",
    "            result[ii][0] = pp0[pp01[ii].p0][0]\n",
    "            result[ii][1] = pp0[pp01[ii].p0][1]\n",
    "            result[ii][2] = pp1[pp01[ii].p1][0] - pp0[pp01[ii].p0][0]\n",
    "            result[ii][3] = pp1[pp01[ii].p1][1] - pp0[pp01[ii].p0][1]\n",
    "            result[ii][4] = pp01[ii].p0\n",
    "            result[ii][5] = pp01[ii].p1\n",
    "\n",
    "    return result[:npa]"
   ],
   "metadata": {
    "collapsed": false,
    "pycharm": {
     "name": "#%%\n"
    }
   }
  },
  {
   "cell_type": "code",
   "execution_count": null,
   "outputs": [],
   "source": [
    "ptv_result = [np.zeros((1, 6))] * 11"
   ],
   "metadata": {
    "collapsed": false,
    "pycharm": {
     "name": "#%%\n"
    }
   }
  },
  {
   "cell_type": "code",
   "execution_count": null,
   "outputs": [],
   "source": [
    "for d in tqdm(range(0, 1)):\n",
    "    for t in range(1, 21):\n",
    "        data_list = deque([None, None, None])\n",
    "\n",
    "        for i in range(t, 10900, 20):\n",
    "            data_list.popleft()\n",
    "\n",
    "            try:\n",
    "                tmp = np.loadtxt(IN_DIR + \"pp\\\\\" + sub_dir_list[d] + f\"pp_{i}.csv\", delimiter=',', skiprows=1)\n",
    "            except StopIteration:\n",
    "                tmp = None\n",
    "\n",
    "            if tmp is None:\n",
    "                pass\n",
    "            elif tmp.ndim == 1:\n",
    "                if len(tmp) > 0:\n",
    "                    tmp = tmp[np.newaxis, :]\n",
    "                else:\n",
    "                    tmp = None\n",
    "            elif tmp.ndim == 2:\n",
    "                pass\n",
    "            else:\n",
    "                tmp = None\n",
    "\n",
    "            data_list.append(tmp)\n",
    "\n",
    "            r = ptv3t(img=data_list)\n",
    "            if r is None:\n",
    "                pass\n",
    "            else:\n",
    "                ptv_result[d] = np.vstack([ptv_result[d], r])\n",
    "                np.savetxt(OUT_DIR + \"ptv\\\\\" + sub_dir_list[d] + f\"pp_{i}.csv\", r, delimiter=',', header=\"x, y, dx, dy, p0_id, p1_id\")"
   ],
   "metadata": {
    "collapsed": false,
    "pycharm": {
     "name": "#%%\n"
    }
   }
  },
  {
   "cell_type": "code",
   "execution_count": null,
   "outputs": [],
   "source": [
    "fig, ax = plt.subplots(figsize=(20, 12))\n",
    "# plt.xlim(0, 1024)\n",
    "# plt.ylim(0, 600)\n",
    "c = ax.quiver(ptv_result[0][:, 0], 800-ptv_result[0][:, 1], ptv_result[0][:, 2], -ptv_result[0][:, 3], np.sqrt(ptv_result[0][:, 2]**2 + ptv_result[0][:, 3]**2), cmap=\"jet\")\n",
    "fig.colorbar(c)\n",
    "plt.show()"
   ],
   "metadata": {
    "collapsed": false,
    "pycharm": {
     "name": "#%%\n"
    }
   }
  },
  {
   "cell_type": "code",
   "execution_count": null,
   "outputs": [],
   "source": [
    "fig, ax = plt.subplots(figsize=(20, 12))\n",
    "# plt.xlim(0, 1024)\n",
    "# plt.ylim(0, 600)\n",
    "c = ax.quiver(ptv_result[1][:, 0], 800-ptv_result[1][:, 1], ptv_result[1][:, 2], -ptv_result[1][:, 3], np.sqrt(ptv_result[1][:, 2]**2 + ptv_result[1][:, 3]**2), cmap=\"jet\")\n",
    "fig.colorbar(c)\n",
    "plt.show()"
   ],
   "metadata": {
    "collapsed": false,
    "pycharm": {
     "name": "#%%\n"
    }
   }
  },
  {
   "cell_type": "code",
   "execution_count": null,
   "outputs": [],
   "source": [
    "fig, ax = plt.subplots(figsize=(20, 12))\n",
    "# plt.xlim(0, 1024)\n",
    "# plt.ylim(0, 600)\n",
    "c = ax.quiver(ptv_result[2][:, 0], 800-ptv_result[2][:, 1], ptv_result[2][:, 2], -ptv_result[2][:, 3], np.sqrt(ptv_result[2][:, 2]**2 + ptv_result[2][:, 3]**2), cmap=\"jet\")\n",
    "fig.colorbar(c)\n",
    "plt.show()"
   ],
   "metadata": {
    "collapsed": false,
    "pycharm": {
     "name": "#%%\n"
    }
   }
  },
  {
   "cell_type": "code",
   "execution_count": null,
   "outputs": [],
   "source": [
    "fig, ax = plt.subplots(figsize=(20, 12))\n",
    "# plt.xlim(0, 1024)\n",
    "# plt.ylim(0, 600)\n",
    "c = ax.quiver(ptv_result[3][:, 0], 800-ptv_result[3][:, 1], ptv_result[3][:, 2], -ptv_result[3][:, 3], np.sqrt(ptv_result[3][:, 2]**2 + ptv_result[3][:, 3]**2), cmap=\"jet\")\n",
    "fig.colorbar(c)\n",
    "plt.show()"
   ],
   "metadata": {
    "collapsed": false,
    "pycharm": {
     "name": "#%%\n"
    }
   }
  },
  {
   "cell_type": "code",
   "execution_count": null,
   "outputs": [],
   "source": [
    "fig, ax = plt.subplots(figsize=(20, 12))\n",
    "# plt.xlim(0, 1024)\n",
    "# plt.ylim(0, 600)\n",
    "c = ax.quiver(ptv_result[4][:, 0], 800-ptv_result[4][:, 1], ptv_result[4][:, 2], -ptv_result[4][:, 3], np.sqrt(ptv_result[4][:, 2]**2 + ptv_result[4][:, 3]**2), cmap=\"jet\")\n",
    "fig.colorbar(c)\n",
    "plt.show()"
   ],
   "metadata": {
    "collapsed": false,
    "pycharm": {
     "name": "#%%\n"
    }
   }
  },
  {
   "cell_type": "code",
   "execution_count": null,
   "outputs": [],
   "source": [
    "fig, ax = plt.subplots(figsize=(20, 12))\n",
    "# plt.xlim(0, 1024)\n",
    "# plt.ylim(0, 600)\n",
    "c = ax.quiver(ptv_result[5][:, 0], 800-ptv_result[5][:, 1], ptv_result[5][:, 2], -ptv_result[5][:, 3], np.sqrt(ptv_result[5][:, 2]**2 + ptv_result[5][:, 3]**2), cmap=\"jet\")\n",
    "fig.colorbar(c)\n",
    "plt.show()"
   ],
   "metadata": {
    "collapsed": false,
    "pycharm": {
     "name": "#%%\n"
    }
   }
  },
  {
   "cell_type": "code",
   "execution_count": 21,
   "outputs": [
    {
     "data": {
      "text/plain": "<Figure size 1440x864 with 2 Axes>",
      "image/png": "[encoded data removed]"
     },
     "metadata": {
      "needs_background": "light"
     },
     "output_type": "display_data"
    }
   ],
   "source": [
    "fig, ax = plt.subplots(figsize=(20, 12))\n",
    "# plt.xlim(0, 1024)\n",
    "# plt.ylim(0, 600)\n",
    "c = ax.quiver(ptv_result[2][:, 0], 800-ptv_result[2][:, 1], ptv_result[2][:, 2], -ptv_result[2][:, 3], np.sqrt(ptv_result[2][:, 2]**2 + ptv_result[2][:, 3]**2), cmap=\"jet\")\n",
    "fig.colorbar(c)\n",
    "plt.show()"
   ],
   "metadata": {
    "collapsed": false,
    "pycharm": {
     "name": "#%%\n"
    }
   }
  },
  {
   "cell_type": "code",
   "execution_count": 22,
   "outputs": [
    {
     "data": {
      "text/plain": "<Figure size 1440x864 with 2 Axes>",
      "image/png": "[encoded data removed]"
     },
     "metadata": {
      "needs_background": "light"
     },
     "output_type": "display_data"
    }
   ],
   "source": [
    "fig, ax = plt.subplots(figsize=(20, 12))\n",
    "# plt.xlim(0, 1024)\n",
    "# plt.ylim(0, 600)\n",
    "c = ax.quiver(ptv_result[3][:, 0], 800-ptv_result[3][:, 1], ptv_result[3][:, 2], -ptv_result[3][:, 3], np.sqrt(ptv_result[3][:, 2]**2 + ptv_result[3][:, 3]**2), cmap=\"jet\")\n",
    "fig.colorbar(c)\n",
    "plt.show()"
   ],
   "metadata": {
    "collapsed": false,
    "pycharm": {
     "name": "#%%\n"
    }
   }
  },
  {
   "cell_type": "code",
   "execution_count": 23,
   "outputs": [
    {
     "data": {
      "text/plain": "<Figure size 1440x864 with 2 Axes>",
      "image/png": "[encoded data removed]"
     },
     "metadata": {
      "needs_background": "light"
     },
     "output_type": "display_data"
    }
   ],
   "source": [
    "fig, ax = plt.subplots(figsize=(20, 12))\n",
    "# plt.xlim(0, 1024)\n",
    "# plt.ylim(0, 600)\n",
    "c = ax.quiver(ptv_result[4][:, 0], 800-ptv_result[4][:, 1], ptv_result[4][:, 2], -ptv_result[4][:, 3], np.sqrt(ptv_result[4][:, 2]**2 + ptv_result[4][:, 3]**2), cmap=\"jet\")\n",
    "fig.colorbar(c)\n",
    "plt.show()"
   ],
   "metadata": {
    "collapsed": false,
    "pycharm": {
     "name": "#%%\n"
    }
   }
  },
  {
   "cell_type": "code",
   "execution_count": 24,
   "outputs": [
    {
     "data": {
      "text/plain": "<Figure size 1440x864 with 2 Axes>",
      "image/png": "[encoded data removed]"
     },
     "metadata": {
      "needs_background": "light"
     },
     "output_type": "display_data"
    }
   ],
   "source": [
    "fig, ax = plt.subplots(figsize=(20, 12))\n",
    "# plt.xlim(0, 1024)\n",
    "# plt.ylim(0, 600)\n",
    "c = ax.quiver(ptv_result[5][:, 0], 800-ptv_result[5][:, 1], ptv_result[5][:, 2], -ptv_result[5][:, 3], np.sqrt(ptv_result[5][:, 2]**2 + ptv_result[5][:, 3]**2), cmap=\"jet\")\n",
    "fig.colorbar(c)\n",
    "plt.show()"
   ],
   "metadata": {
    "collapsed": false,
    "pycharm": {
     "name": "#%%\n"
    }
   }
  }
 ],
 "metadata": {
  "kernelspec": {
   "display_name": "Python 3",
   "language": "python",
   "name": "python3"
  },
  "language_info": {
   "codemirror_mode": {
    "name": "ipython",
    "version": 2
   },
   "file_extension": ".py",
   "mimetype": "text/x-python",
   "name": "python",
   "nbconvert_exporter": "python",
   "pygments_lexer": "ipython2",
   "version": "2.7.6"
  }
 },
 "nbformat": 4,
 "nbformat_minor": 0
}