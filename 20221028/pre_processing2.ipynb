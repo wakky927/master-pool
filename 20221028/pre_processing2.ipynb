{
 "cells": [
  {
   "cell_type": "code",
   "execution_count": 15,
   "metadata": {
    "collapsed": true,
    "pycharm": {
     "name": "#%%\n"
    }
   },
   "outputs": [],
   "source": [
    "import cv2\n",
    "import numpy as np\n",
    "from tqdm import tqdm"
   ]
  },
  {
   "cell_type": "code",
   "execution_count": 16,
   "outputs": [],
   "source": [
    "IN_DIR = \"E:\\\\M2\\\\original\\\\pool\\\\20221028_wada\\\\\"\n",
    "OUT_DIR = \"E:\\\\M2\\\\result\\\\20221028\\\\\"\n",
    "sub_dir_list = [\n",
    "    \"dual_2_40_1_C001H001S0001\",\n",
    "    \"dual_2_40_2_C001H001S0001\",\n",
    "    \"dual_2_40_3_C001H001S0001\",\n",
    "    \"dual_2_40_4_C001H001S0001\",\n",
    "    \"dual_2_40_5_C001H001S0001\",\n",
    "    \"dual_2_40_6_C001H001S0001\"\n",
    "]\n",
    "sub_dir_list2 = [\n",
    "    \"dual_2\\\\1\\\\\",\n",
    "    \"dual_2\\\\2\\\\\",\n",
    "    \"dual_2\\\\3\\\\\",\n",
    "    \"dual_2\\\\4\\\\\",\n",
    "    \"dual_2\\\\5\\\\\",\n",
    "]"
   ],
   "metadata": {
    "collapsed": false,
    "pycharm": {
     "name": "#%%\n"
    }
   }
  },
  {
   "cell_type": "code",
   "execution_count": 17,
   "outputs": [],
   "source": [
    "p_original = np.float32([[404, 434], [728, 440], [360, 515], [772, 518], ])\n",
    "p_trans = np.float32([[800, 1100], [1320, 1100], [800, 1400], [1320, 1400]])\n",
    "M = cv2.getPerspectiveTransform(p_original, p_trans)"
   ],
   "metadata": {
    "collapsed": false,
    "pycharm": {
     "name": "#%%\n"
    }
   }
  },
  {
   "cell_type": "code",
   "execution_count": 18,
   "outputs": [],
   "source": [
    "c = (557, 770)\n",
    "rot_mat = cv2.getRotationMatrix2D(c, -7, 1.0)"
   ],
   "metadata": {
    "collapsed": false,
    "pycharm": {
     "name": "#%%\n"
    }
   }
  },
  {
   "cell_type": "code",
   "execution_count": 19,
   "outputs": [],
   "source": [
    "mask = cv2.imread(\"m.bmp\", 0)\n",
    "mask2 = cv2.imread(\"MASK_dual_2_40_1_C001H001S0001.bmp\", 0)"
   ],
   "metadata": {
    "collapsed": false,
    "pycharm": {
     "name": "#%%\n"
    }
   }
  },
  {
   "cell_type": "code",
   "execution_count": 20,
   "outputs": [],
   "source": [
    "def preprocessing_2(img, mode):\n",
    "    if mode == 0 or mode == 3:\n",
    "        img = cv2.bitwise_and(img, img, mask=mask)\n",
    "        img = cv2.bitwise_and(img, img, mask=mask2)\n",
    "        img = cv2.warpPerspective(img, M, (2000, 2000))\n",
    "        img = cv2.warpAffine(img, rot_mat, img.shape[1::-1])\n",
    "        _, img = cv2.threshold(img[500:1800, :], 150, 255, cv2.THRESH_BINARY)\n",
    "        retval, labels, stats, centroids = cv2.connectedComponentsWithStats(img)\n",
    "    else:\n",
    "        img = cv2.bitwise_and(img, img, mask=mask)\n",
    "        img = cv2.warpPerspective(img, M, (2000, 2000))\n",
    "        img = cv2.warpAffine(img, rot_mat, img.shape[1::-1])\n",
    "        _, img = cv2.threshold(img[500:1800, :], 90, 255, cv2.THRESH_BINARY)\n",
    "        retval, labels, stats, centroids = cv2.connectedComponentsWithStats(img)\n",
    "\n",
    "    return img, centroids"
   ],
   "metadata": {
    "collapsed": false,
    "pycharm": {
     "name": "#%%\n"
    }
   }
  },
  {
   "cell_type": "code",
   "execution_count": 21,
   "outputs": [
    {
     "name": "stderr",
     "output_type": "stream",
     "text": [
      "100%|██████████| 10899/10899 [31:30<00:00,  5.77it/s] \n"
     ]
    }
   ],
   "source": [
    "for d in range(4, 5):\n",
    "    for i in tqdm(range(1, 10900)):\n",
    "        dst, res = preprocessing_2(img=cv2.imread(IN_DIR + sub_dir_list[d] + \"\\\\\" + sub_dir_list[d] + f\"{i:06}\" + \".bmp\", 0), mode=d)\n",
    "        cv2.imwrite(OUT_DIR + \"img\\\\\" + sub_dir_list2[d] + f\"{i}.png\", dst)\n",
    "        np.savetxt(OUT_DIR + \"pp\\\\\" + sub_dir_list2[d] + f\"pp_{i}.csv\", res[1:], delimiter=',')"
   ],
   "metadata": {
    "collapsed": false,
    "pycharm": {
     "name": "#%%\n"
    }
   }
  },
  {
   "cell_type": "code",
   "execution_count": 21,
   "outputs": [],
   "source": [],
   "metadata": {
    "collapsed": false,
    "pycharm": {
     "name": "#%%\n"
    }
   }
  }
 ],
 "metadata": {
  "kernelspec": {
   "display_name": "Python 3",
   "language": "python",
   "name": "python3"
  },
  "language_info": {
   "codemirror_mode": {
    "name": "ipython",
    "version": 2
   },
   "file_extension": ".py",
   "mimetype": "text/x-python",
   "name": "python",
   "nbconvert_exporter": "python",
   "pygments_lexer": "ipython2",
   "version": "2.7.6"
  }
 },
 "nbformat": 4,
 "nbformat_minor": 0
}