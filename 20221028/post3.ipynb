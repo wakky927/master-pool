{
 "cells": [
  {
   "cell_type": "code",
   "execution_count": 1,
   "metadata": {
    "collapsed": true,
    "pycharm": {
     "name": "#%%\n"
    }
   },
   "outputs": [],
   "source": [
    "import pickle\n",
    "\n",
    "import numpy as np\n",
    "from tqdm import tqdm"
   ]
  },
  {
   "cell_type": "code",
   "execution_count": 2,
   "outputs": [],
   "source": [
    "import warnings\n",
    "warnings.simplefilter(\"ignore\", UserWarning)\n",
    "warnings.simplefilter(\"ignore\", RuntimeWarning)"
   ],
   "metadata": {
    "collapsed": false,
    "pycharm": {
     "name": "#%%\n"
    }
   }
  },
  {
   "cell_type": "code",
   "execution_count": 3,
   "outputs": [],
   "source": [
    "with open(f'ptv_result.pickle', mode='rb') as fp:\n",
    "    ptv_result = pickle.load(fp)"
   ],
   "metadata": {
    "collapsed": false,
    "pycharm": {
     "name": "#%%\n"
    }
   }
  },
  {
   "cell_type": "code",
   "execution_count": 4,
   "outputs": [],
   "source": [
    "data = [[[]*50]*50]*50"
   ],
   "metadata": {
    "collapsed": false,
    "pycharm": {
     "name": "#%%\n"
    }
   }
  },
  {
   "cell_type": "code",
   "execution_count": null,
   "outputs": [
    {
     "name": "stderr",
     "output_type": "stream",
     "text": [
      " 13%|█▎        | 187203/1392032 [2:20:39<16:24:26, 20.40it/s]"
     ]
    }
   ],
   "source": [
    "for p in tqdm(range(ptv_result.shape[0])):\n",
    "    for j in range(0, 50):\n",
    "        for i in range(0, 50):\n",
    "            if np.sqrt((1350 // 50 * i - ptv_result.iloc[p, 0])**2 + (1300 // 50 * j - ptv_result.iloc[p, 1])**2) < 75:\n",
    "                data[j][i].append(\n",
    "                    [\n",
    "                        ptv_result.iloc[p, 0],\n",
    "                        ptv_result.iloc[p, 1],\n",
    "                        ptv_result.iloc[p, 2],\n",
    "                        ptv_result.iloc[p, 3]\n",
    "                    ]\n",
    "                )\n",
    "                break\n",
    "        else:\n",
    "            continue\n",
    "        break"
   ],
   "metadata": {
    "collapsed": false,
    "pycharm": {
     "name": "#%%\n",
     "is_executing": true
    }
   }
  },
  {
   "cell_type": "code",
   "execution_count": null,
   "outputs": [],
   "source": [
    "# with open(f'ptv_result2.pickle', mode='rb') as fp:\n",
    "#     data = pickle.load(fp)"
   ],
   "metadata": {
    "collapsed": false,
    "pycharm": {
     "name": "#%%\n",
     "is_executing": true
    }
   }
  },
  {
   "cell_type": "code",
   "execution_count": null,
   "outputs": [],
   "source": [
    "u = np.zeros([1300 // 50, 1300 // 50])\n",
    "v = np.zeros([1300 // 50, 1300 // 50])"
   ],
   "metadata": {
    "collapsed": false,
    "pycharm": {
     "name": "#%%\n",
     "is_executing": true
    }
   }
  },
  {
   "cell_type": "code",
   "execution_count": null,
   "outputs": [],
   "source": [
    "for j in range(50):\n",
    "    for i in range(50):\n",
    "        tmp = data[j][i]\n",
    "        top_u, top_v = 0, 0\n",
    "        bottom = 0\n",
    "\n",
    "        sigma = 1.24 * np.sqrt(75*75*np.pi / 1392032)\n",
    "\n",
    "        for k in range(len(tmp)):\n",
    "            r = np.sqrt((1350 // 50 * i - tmp[k][0])**2 + (1300 // 50 * j - tmp[k][1])**2)\n",
    "            omega = np.exp(- (r / sigma)**2)\n",
    "\n",
    "            top_u += omega * tmp[k][2]\n",
    "            top_v += omega * tmp[k][3]\n",
    "            bottom += omega\n",
    "\n",
    "        u[j, i] = top_u / bottom\n",
    "        v[j, i] = top_v / bottom"
   ],
   "metadata": {
    "collapsed": false,
    "pycharm": {
     "name": "#%%\n",
     "is_executing": true
    }
   }
  }
 ],
 "metadata": {
  "kernelspec": {
   "display_name": "Python 3",
   "language": "python",
   "name": "python3"
  },
  "language_info": {
   "codemirror_mode": {
    "name": "ipython",
    "version": 2
   },
   "file_extension": ".py",
   "mimetype": "text/x-python",
   "name": "python",
   "nbconvert_exporter": "python",
   "pygments_lexer": "ipython2",
   "version": "2.7.6"
  }
 },
 "nbformat": 4,
 "nbformat_minor": 0
}