{
 "cells": [
  {
   "cell_type": "code",
   "execution_count": 1,
   "metadata": {
    "collapsed": true,
    "pycharm": {
     "name": "#%%\n"
    }
   },
   "outputs": [],
   "source": [
    "import pickle\n",
    "\n",
    "import numpy as np\n",
    "from matplotlib import pyplot as plt\n",
    "import pandas as pd\n",
    "from tqdm import tqdm"
   ]
  },
  {
   "cell_type": "code",
   "execution_count": 2,
   "outputs": [],
   "source": [
    "import warnings\n",
    "warnings.simplefilter(\"ignore\", UserWarning)\n",
    "warnings.simplefilter(\"ignore\", RuntimeWarning)"
   ],
   "metadata": {
    "collapsed": false,
    "pycharm": {
     "name": "#%%\n"
    }
   }
  },
  {
   "cell_type": "code",
   "execution_count": 3,
   "outputs": [],
   "source": [
    "IN_DIR = \"E:\\\\M2\\\\result\\\\20221028\\\\\"\n",
    "OUT_DIR = \"E:\\\\M2\\\\result\\\\20221028\\\\\"\n",
    "sub_dir_list = [\n",
    "    \"dual_2\\\\1\\\\\",\n",
    "    \"dual_2\\\\2\\\\\",\n",
    "    \"dual_2\\\\3\\\\\",\n",
    "    \"dual_2\\\\4\\\\\",\n",
    "    \"dual_2\\\\5\\\\\",\n",
    "]"
   ],
   "metadata": {
    "collapsed": false,
    "pycharm": {
     "name": "#%%\n"
    }
   }
  },
  {
   "cell_type": "code",
   "execution_count": 4,
   "outputs": [],
   "source": [
    "ptv_result = np.zeros((1, 6))"
   ],
   "metadata": {
    "collapsed": false,
    "pycharm": {
     "name": "#%%\n"
    }
   }
  },
  {
   "cell_type": "code",
   "execution_count": 5,
   "outputs": [
    {
     "name": "stderr",
     "output_type": "stream",
     "text": [
      "100%|██████████| 10900/10900 [00:03<00:00, 3409.48it/s]\n"
     ]
    }
   ],
   "source": [
    "for d in range(0, 1):\n",
    "    for i in tqdm(range(0, 10900)):\n",
    "        try:\n",
    "            tmp = np.loadtxt(OUT_DIR + \"ptv\\\\\" + sub_dir_list[d] + f\"pp_{i}.csv\", delimiter=',', skiprows=1)\n",
    "        except StopIteration:\n",
    "            tmp = None\n",
    "        except OSError:\n",
    "            tmp = None\n",
    "\n",
    "        if tmp is None:\n",
    "            pass\n",
    "        elif tmp.ndim == 1:\n",
    "            if len(tmp) > 0:\n",
    "                tmp = tmp[np.newaxis, :]\n",
    "            else:\n",
    "                tmp = None\n",
    "        elif tmp.ndim == 2:\n",
    "            pass\n",
    "        else:\n",
    "            tmp = None\n",
    "\n",
    "        if tmp is None:\n",
    "            pass\n",
    "        else:\n",
    "            ptv_result = np.vstack([ptv_result, tmp])"
   ],
   "metadata": {
    "collapsed": false,
    "pycharm": {
     "name": "#%%\n"
    }
   }
  },
  {
   "cell_type": "code",
   "execution_count": 6,
   "outputs": [
    {
     "data": {
      "text/plain": "<Figure size 1080x864 with 2 Axes>",
      "image/png": "[encoded data removed]"
     },
     "metadata": {
      "needs_background": "light"
     },
     "output_type": "display_data"
    }
   ],
   "source": [
    "fig, ax = plt.subplots(figsize=(15, 12))\n",
    "plt.xlim(-500, 975)\n",
    "plt.ylim(-1050, 250)\n",
    "ax.hlines(0, -440, -470, color='k')\n",
    "ax.vlines(-455, -15, 15, color='k')\n",
    "ax.hlines(0, 440, 470, color='k')\n",
    "ax.vlines(455, -15, 15, color='k')\n",
    "\n",
    "c = ax.quiver(ptv_result[:, 0]-375, -ptv_result[:, 1]+250, ptv_result[:, 2], -ptv_result[:, 3], np.sqrt(ptv_result[:, 2]**2 + ptv_result[:, 3]**2), cmap=\"jet\")\n",
    "\n",
    "fig.colorbar(c)\n",
    "plt.show()"
   ],
   "metadata": {
    "collapsed": false,
    "pycharm": {
     "name": "#%%\n"
    }
   }
  },
  {
   "cell_type": "code",
   "execution_count": 7,
   "outputs": [
    {
     "name": "stderr",
     "output_type": "stream",
     "text": [
      "100%|██████████| 1/1 [00:00<00:00, 323.19it/s]\n"
     ]
    }
   ],
   "source": [
    "ptv_result = pd.DataFrame(ptv_result, columns=['x', 'y', 'dx', 'dy', 'p0', 'p1'])\n",
    "for row in tqdm(ptv_result.index):\n",
    "    if (ptv_result.loc[row] == 0).all():\n",
    "        ptv_result.drop(row, axis=0, inplace=True)"
   ],
   "metadata": {
    "collapsed": false,
    "pycharm": {
     "name": "#%%\n"
    }
   }
  },
  {
   "cell_type": "code",
   "execution_count": 8,
   "outputs": [],
   "source": [
    "with open(f'ptv_result_test.pickle', mode='wb') as fp:\n",
    "    pickle.dump(ptv_result, fp)"
   ],
   "metadata": {
    "collapsed": false,
    "pycharm": {
     "name": "#%%\n"
    }
   }
  },
  {
   "cell_type": "code",
   "execution_count": 8,
   "outputs": [],
   "source": [],
   "metadata": {
    "collapsed": false,
    "pycharm": {
     "name": "#%%\n"
    }
   }
  }
 ],
 "metadata": {
  "kernelspec": {
   "display_name": "Python 3",
   "language": "python",
   "name": "python3"
  },
  "language_info": {
   "codemirror_mode": {
    "name": "ipython",
    "version": 2
   },
   "file_extension": ".py",
   "mimetype": "text/x-python",
   "name": "python",
   "nbconvert_exporter": "python",
   "pygments_lexer": "ipython2",
   "version": "2.7.6"
  }
 },
 "nbformat": 4,
 "nbformat_minor": 0
}