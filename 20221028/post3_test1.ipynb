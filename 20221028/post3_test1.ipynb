{
 "cells": [
  {
   "cell_type": "code",
   "execution_count": 28,
   "metadata": {
    "collapsed": true,
    "pycharm": {
     "name": "#%%\n"
    }
   },
   "outputs": [],
   "source": [
    "import pickle\n",
    "\n",
    "from matplotlib import pyplot as plt\n",
    "import numpy as np\n",
    "import pandas as pd\n",
    "from tqdm import tqdm"
   ]
  },
  {
   "cell_type": "code",
   "execution_count": 29,
   "outputs": [],
   "source": [
    "import warnings\n",
    "warnings.simplefilter(\"ignore\", UserWarning)\n",
    "warnings.simplefilter(\"ignore\", RuntimeWarning)"
   ],
   "metadata": {
    "collapsed": false,
    "pycharm": {
     "name": "#%%\n"
    }
   }
  },
  {
   "cell_type": "code",
   "execution_count": null,
   "outputs": [],
   "source": [
    "# import time\n",
    "#\n",
    "# time.sleep(6 * 3600)"
   ],
   "metadata": {
    "collapsed": false,
    "pycharm": {
     "name": "#%%\n",
     "is_executing": true
    }
   }
  },
  {
   "cell_type": "code",
   "execution_count": null,
   "outputs": [],
   "source": [
    "with open(f'ptv_result_large_low1.pickle', mode='rb') as fp:\n",
    "    ptv_result = pickle.load(fp)"
   ],
   "metadata": {
    "collapsed": false,
    "pycharm": {
     "name": "#%%\n",
     "is_executing": true
    }
   }
  },
  {
   "cell_type": "code",
   "execution_count": null,
   "outputs": [],
   "source": [
    "with open(f'ptv_result_large_high1.pickle', mode='rb') as fp:\n",
    "    ptv_result2 = pickle.load(fp)"
   ],
   "metadata": {
    "collapsed": false,
    "pycharm": {
     "name": "#%%\n",
     "is_executing": true
    }
   }
  },
  {
   "cell_type": "code",
   "execution_count": null,
   "outputs": [],
   "source": [
    "ptv_result = ptv_result.sort_values(by='y', ascending=True).values\n",
    "ptv_result2 = ptv_result2.sort_values(by='y', ascending=True).values"
   ],
   "metadata": {
    "collapsed": false,
    "pycharm": {
     "name": "#%%\n",
     "is_executing": true
    }
   }
  },
  {
   "cell_type": "code",
   "execution_count": null,
   "outputs": [],
   "source": [
    "Grid_X, Grid_Y = 200, 110"
   ],
   "metadata": {
    "collapsed": false,
    "pycharm": {
     "name": "#%%\n",
     "is_executing": true
    }
   }
  },
  {
   "cell_type": "code",
   "execution_count": null,
   "outputs": [],
   "source": [
    "width, height = 2000, 1100"
   ],
   "metadata": {
    "collapsed": false,
    "pycharm": {
     "name": "#%%\n",
     "is_executing": true
    }
   }
  },
  {
   "cell_type": "code",
   "execution_count": null,
   "outputs": [],
   "source": [
    "x = np.linspace(0, width, Grid_X)\n",
    "y = np.linspace(0, height, Grid_Y)\n",
    "xx, yy = np.meshgrid(x, y)\n",
    "\n",
    "u = np.zeros([Grid_Y, Grid_X])\n",
    "v = np.zeros([Grid_Y, Grid_X])\n",
    "u2 = np.zeros([Grid_Y, Grid_X])\n",
    "v2 = np.zeros([Grid_Y, Grid_X])\n",
    "u3 = np.zeros([Grid_Y, Grid_X])\n",
    "v3 = np.zeros([Grid_Y, Grid_X])"
   ],
   "metadata": {
    "collapsed": false,
    "pycharm": {
     "name": "#%%\n",
     "is_executing": true
    }
   }
  },
  {
   "cell_type": "code",
   "execution_count": null,
   "outputs": [],
   "source": [
    "sigma = 1.24 * np.sqrt(height * width / ptv_result.shape[0])\n",
    "sigma2 = 1.24 * np.sqrt(height * width / ptv_result2.shape[0])"
   ],
   "metadata": {
    "collapsed": false,
    "pycharm": {
     "name": "#%%\n",
     "is_executing": true
    }
   }
  },
  {
   "cell_type": "code",
   "execution_count": null,
   "outputs": [],
   "source": [
    "for j in tqdm(range(0, Grid_Y)):\n",
    "    upper_limit = ptv_result[np.where(ptv_result[:, 1] >= height // Grid_Y * j)]\n",
    "    upper_bottom_limit = upper_limit[np.where(upper_limit[:, 1] < height // Grid_Y * (j + 1))]\n",
    "\n",
    "    upper_limit2 = ptv_result2[np.where(ptv_result2[:, 1] >= height // Grid_Y * j)]\n",
    "    upper_bottom_limit2 = upper_limit2[np.where(upper_limit2[:, 1] < height // Grid_Y * (j + 1))]\n",
    "\n",
    "    tmp_y = pd.DataFrame(data=upper_bottom_limit[:, :4], columns=['x', 'y', 'dx', 'dy']).sort_values(by='x', ascending=True).values\n",
    "    tmp_y2 = pd.DataFrame(data=upper_bottom_limit2[:, :4], columns=['x', 'y', 'dx', 'dy']).sort_values(by='x', ascending=True).values\n",
    "\n",
    "    for i in range(0, Grid_X):\n",
    "        left_limit = tmp_y[np.where(tmp_y[:, 0] >= width // Grid_X * i)]\n",
    "        left_right_limit = left_limit[np.where(left_limit[:, 0] < width // Grid_X * (i + 1))]\n",
    "        tmp = left_right_limit\n",
    "\n",
    "        left_limit2 = tmp_y2[np.where(tmp_y2[:, 0] >= width // Grid_X * i)]\n",
    "        left_right_limit2 = left_limit2[np.where(left_limit2[:, 0] < width // Grid_X * (i + 1))]\n",
    "        tmp2 = left_right_limit2\n",
    "\n",
    "        top_u, top_v = 0, 0\n",
    "        bottom = 0\n",
    "        omega = 0\n",
    "\n",
    "        for k in range(tmp.shape[0]):\n",
    "            r = np.sqrt((width // Grid_X * (i + 0.5) - tmp[k][0])**2 + (height // Grid_Y * (j + 0.5) - tmp[k][1])**2)\n",
    "            omega = np.exp(- (r / sigma)**2)\n",
    "\n",
    "            top_u += omega * tmp[k][2]\n",
    "            top_v += omega * tmp[k][3]\n",
    "            bottom += omega\n",
    "\n",
    "        if omega == 0:\n",
    "            u[j, i] = np.nan\n",
    "            v[j, i] = np.nan\n",
    "        else:\n",
    "            u[j, i] = top_u / bottom\n",
    "            v[j, i] = top_v / bottom\n",
    "\n",
    "        top_u, top_v = 0, 0\n",
    "        bottom = 0\n",
    "        omega = 0\n",
    "\n",
    "        for k in range(tmp2.shape[0]):\n",
    "            r = np.sqrt((width // Grid_X * (i + 0.5) - tmp2[k][0])**2 + (height // Grid_Y * (j + 0.5) - tmp2[k][1])**2)\n",
    "            omega = np.exp(- (r / sigma2)**2)\n",
    "\n",
    "            top_u += omega * tmp2[k][2]\n",
    "            top_v += omega * tmp2[k][3]\n",
    "            bottom += omega\n",
    "\n",
    "        if omega == 0:\n",
    "            u2[j, i] = np.nan\n",
    "            v2[j, i] = np.nan\n",
    "        else:\n",
    "            u2[j, i] = top_u / bottom\n",
    "            v2[j, i] = top_v / bottom\n",
    "\n",
    "        if not np.isnan(u[j, i]) and not np.isnan(u2[j, i]) and np.sqrt(u[j, i]**2 + v[j, i]**2) > 8:\n",
    "            u3[j, i] = u2[j, i]\n",
    "            v3[j, i] = v2[j, i]\n",
    "        elif not np.isnan(u[j, i]):\n",
    "            u3[j, i] = u[j, i]\n",
    "            v3[j, i] = v[j, i]\n",
    "        elif np.isnan(u[j, i]) and not np.isnan(u2[j, i]):\n",
    "            u3[j, i] = u2[j, i]\n",
    "            v3[j, i] = v2[j, i]\n",
    "        else:\n",
    "            u3[j, i] = np.nan\n",
    "            v3[j, i] = np.nan"
   ],
   "metadata": {
    "collapsed": false,
    "pycharm": {
     "name": "#%%\n",
     "is_executing": true
    }
   }
  },
  {
   "cell_type": "code",
   "execution_count": null,
   "outputs": [],
   "source": [
    "fig, ax = plt.subplots(figsize=(20, 12))\n",
    "plt.xlim(-1080, 900)\n",
    "plt.ylim(-850, 250)\n",
    "\n",
    "ax.hlines(0, -255, -225, color='k')\n",
    "ax.vlines(-240, -15, 15, color='k')\n",
    "ax.hlines(0, 225, 255, color='k')\n",
    "ax.vlines(240, -15, 15, color='k')\n",
    "\n",
    "plt.quiver(xx-1080, -yy+250, u, -v, np.sqrt(u**2 + v**2), cmap=\"jet\")\n",
    "\n",
    "plt.colorbar()\n",
    "plt.clim(0, 10)\n",
    "plt.show()"
   ],
   "metadata": {
    "collapsed": false,
    "pycharm": {
     "name": "#%%\n",
     "is_executing": true
    }
   }
  },
  {
   "cell_type": "code",
   "execution_count": null,
   "outputs": [],
   "source": [
    "fig, ax = plt.subplots(figsize=(20, 12))\n",
    "plt.xlim(-1080, 900)\n",
    "plt.ylim(-850, 250)\n",
    "\n",
    "ax.hlines(0, -255, -225, color='k')\n",
    "ax.vlines(-240, -15, 15, color='k')\n",
    "ax.hlines(0, 225, 255, color='k')\n",
    "ax.vlines(240, -15, 15, color='k')\n",
    "\n",
    "plt.quiver(xx-1080, -yy+250, u2, -v2, np.sqrt(u2**2 + v2**2), cmap=\"jet\")\n",
    "\n",
    "plt.colorbar()\n",
    "plt.clim(0, 15)\n",
    "plt.show()"
   ],
   "metadata": {
    "collapsed": false,
    "pycharm": {
     "name": "#%%\n",
     "is_executing": true
    }
   }
  },
  {
   "cell_type": "code",
   "execution_count": null,
   "outputs": [],
   "source": [
    "fig, ax = plt.subplots(figsize=(20, 12))\n",
    "plt.xlim(-1080, 900)\n",
    "plt.ylim(-850, 250)\n",
    "\n",
    "ax.hlines(0, -255, -225, color='k')\n",
    "ax.vlines(-240, -15, 15, color='k')\n",
    "ax.hlines(0, 225, 255, color='k')\n",
    "ax.vlines(240, -15, 15, color='k')\n",
    "\n",
    "plt.quiver(xx-1080, -yy+250, u3, -v3, np.sqrt(u3**2 + v3**2), cmap=\"jet\")\n",
    "\n",
    "plt.colorbar()\n",
    "plt.clim(0, 15)\n",
    "plt.show()"
   ],
   "metadata": {
    "collapsed": false,
    "pycharm": {
     "name": "#%%\n",
     "is_executing": true
    }
   }
  },
  {
   "cell_type": "code",
   "execution_count": null,
   "outputs": [],
   "source": [],
   "metadata": {
    "collapsed": false,
    "pycharm": {
     "name": "#%%\n",
     "is_executing": true
    }
   }
  }
 ],
 "metadata": {
  "kernelspec": {
   "display_name": "Python 3",
   "language": "python",
   "name": "python3"
  },
  "language_info": {
   "codemirror_mode": {
    "name": "ipython",
    "version": 2
   },
   "file_extension": ".py",
   "mimetype": "text/x-python",
   "name": "python",
   "nbconvert_exporter": "python",
   "pygments_lexer": "ipython2",
   "version": "2.7.6"
  }
 },
 "nbformat": 4,
 "nbformat_minor": 0
}