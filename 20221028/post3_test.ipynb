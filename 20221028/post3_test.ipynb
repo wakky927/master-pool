{
 "cells": [
  {
   "cell_type": "code",
   "execution_count": 9,
   "metadata": {
    "collapsed": true,
    "pycharm": {
     "name": "#%%\n"
    }
   },
   "outputs": [],
   "source": [
    "import pickle\n",
    "\n",
    "import numpy as np\n",
    "from tqdm import tqdm"
   ]
  },
  {
   "cell_type": "code",
   "execution_count": 10,
   "outputs": [],
   "source": [
    "import warnings\n",
    "warnings.simplefilter(\"ignore\", UserWarning)\n",
    "warnings.simplefilter(\"ignore\", RuntimeWarning)"
   ],
   "metadata": {
    "collapsed": false,
    "pycharm": {
     "name": "#%%\n"
    }
   }
  },
  {
   "cell_type": "code",
   "execution_count": 11,
   "outputs": [],
   "source": [
    "with open(f'ptv_result_test.pickle', mode='rb') as fp:\n",
    "    ptv_result = pickle.load(fp)"
   ],
   "metadata": {
    "collapsed": false,
    "pycharm": {
     "name": "#%%\n"
    }
   }
  },
  {
   "cell_type": "code",
   "execution_count": 12,
   "outputs": [],
   "source": [
    "data = [[[]*50]*50]*50"
   ],
   "metadata": {
    "collapsed": false,
    "pycharm": {
     "name": "#%%\n"
    }
   }
  },
  {
   "cell_type": "code",
   "execution_count": 13,
   "outputs": [
    {
     "name": "stderr",
     "output_type": "stream",
     "text": [
      "0it [00:00, ?it/s]\n"
     ]
    }
   ],
   "source": [
    "for p in tqdm(range(ptv_result.shape[0])):\n",
    "    for j in range(0, 50):\n",
    "        for i in range(0, 50):\n",
    "            if np.sqrt((1350 // 50 * i - ptv_result.iloc[p, 0])**2 + (1300 // 50 * j - ptv_result.iloc[p, 1])**2) < 75:\n",
    "                data[j][i].append(\n",
    "                    [\n",
    "                        ptv_result.iloc[p, 0],\n",
    "                        ptv_result.iloc[p, 1],\n",
    "                        ptv_result.iloc[p, 2],\n",
    "                        ptv_result.iloc[p, 3]\n",
    "                    ]\n",
    "                )\n",
    "                break\n",
    "        else:\n",
    "            continue\n",
    "        break"
   ],
   "metadata": {
    "collapsed": false,
    "pycharm": {
     "name": "#%%\n"
    }
   }
  },
  {
   "cell_type": "code",
   "execution_count": 14,
   "outputs": [],
   "source": [
    "# with open(f'ptv_result2.pickle', mode='rb') as fp:\n",
    "#     data = pickle.load(fp)"
   ],
   "metadata": {
    "collapsed": false,
    "pycharm": {
     "name": "#%%\n"
    }
   }
  },
  {
   "cell_type": "code",
   "execution_count": 15,
   "outputs": [],
   "source": [
    "u = np.zeros([1300 // 50, 1300 // 50])\n",
    "v = np.zeros([1300 // 50, 1300 // 50])"
   ],
   "metadata": {
    "collapsed": false,
    "pycharm": {
     "name": "#%%\n"
    }
   }
  },
  {
   "cell_type": "code",
   "execution_count": 16,
   "outputs": [
    {
     "ename": "ZeroDivisionError",
     "evalue": "division by zero",
     "output_type": "error",
     "traceback": [
      "\u001B[0;31m---------------------------------------------------------------------------\u001B[0m",
      "\u001B[0;31mZeroDivisionError\u001B[0m                         Traceback (most recent call last)",
      "\u001B[0;32m/var/folders/75/dz10lh0n0yj1snrsvfbf3_9m0000gn/T/ipykernel_2013/4194127320.py\u001B[0m in \u001B[0;36m<module>\u001B[0;34m\u001B[0m\n\u001B[1;32m     15\u001B[0m             \u001B[0mbottom\u001B[0m \u001B[0;34m+=\u001B[0m \u001B[0momega\u001B[0m\u001B[0;34m\u001B[0m\u001B[0;34m\u001B[0m\u001B[0m\n\u001B[1;32m     16\u001B[0m \u001B[0;34m\u001B[0m\u001B[0m\n\u001B[0;32m---> 17\u001B[0;31m         \u001B[0mu\u001B[0m\u001B[0;34m[\u001B[0m\u001B[0mj\u001B[0m\u001B[0;34m,\u001B[0m \u001B[0mi\u001B[0m\u001B[0;34m]\u001B[0m \u001B[0;34m=\u001B[0m \u001B[0mtop_u\u001B[0m \u001B[0;34m/\u001B[0m \u001B[0mbottom\u001B[0m\u001B[0;34m\u001B[0m\u001B[0;34m\u001B[0m\u001B[0m\n\u001B[0m\u001B[1;32m     18\u001B[0m         \u001B[0mv\u001B[0m\u001B[0;34m[\u001B[0m\u001B[0mj\u001B[0m\u001B[0;34m,\u001B[0m \u001B[0mi\u001B[0m\u001B[0;34m]\u001B[0m \u001B[0;34m=\u001B[0m \u001B[0mtop_v\u001B[0m \u001B[0;34m/\u001B[0m \u001B[0mbottom\u001B[0m\u001B[0;34m\u001B[0m\u001B[0;34m\u001B[0m\u001B[0m\n",
      "\u001B[0;31mZeroDivisionError\u001B[0m: division by zero"
     ]
    }
   ],
   "source": [
    "for j in range(50):\n",
    "    for i in range(50):\n",
    "        tmp = data[j][i]\n",
    "        top_u, top_v = 0, 0\n",
    "        bottom = 0\n",
    "\n",
    "        sigma = 1.24 * np.sqrt(75*75*np.pi / 1392032)\n",
    "\n",
    "        for k in range(len(tmp)):\n",
    "            r = np.sqrt((1350 // 50 * i - tmp[k][0])**2 + (1300 // 50 * j - tmp[k][1])**2)\n",
    "            omega = np.exp(- (r / sigma)**2)\n",
    "\n",
    "            top_u += omega * tmp[k][2]\n",
    "            top_v += omega * tmp[k][3]\n",
    "            bottom += omega\n",
    "\n",
    "        u[j, i] = top_u / bottom\n",
    "        v[j, i] = top_v / bottom"
   ],
   "metadata": {
    "collapsed": false,
    "pycharm": {
     "name": "#%%\n"
    }
   }
  }
 ],
 "metadata": {
  "kernelspec": {
   "display_name": "Python 3",
   "language": "python",
   "name": "python3"
  },
  "language_info": {
   "codemirror_mode": {
    "name": "ipython",
    "version": 2
   },
   "file_extension": ".py",
   "mimetype": "text/x-python",
   "name": "python",
   "nbconvert_exporter": "python",
   "pygments_lexer": "ipython2",
   "version": "2.7.6"
  }
 },
 "nbformat": 4,
 "nbformat_minor": 0
}