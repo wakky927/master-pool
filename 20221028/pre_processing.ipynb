{
 "cells": [
  {
   "cell_type": "code",
   "execution_count": 6,
   "metadata": {
    "collapsed": true,
    "pycharm": {
     "name": "#%%\n"
    }
   },
   "outputs": [],
   "source": [
    "import cv2\n",
    "import numpy as np\n",
    "from tqdm import tqdm"
   ]
  },
  {
   "cell_type": "code",
   "execution_count": 7,
   "outputs": [],
   "source": [
    "IN_DIR = \"D:\\\\pool\\\\20221028_wada\\\\\"\n",
    "OUT_DIR = \"D:\\\\result\\\\20221028\\\\\"\n",
    "sub_dir_list = [\n",
    "    \"dual_40_1_C001H001S0001\",\n",
    "    \"dual_40_2_C001H001S0001\",\n",
    "    \"dual_40_3_C001H001S0001\",\n",
    "    \"dual_40_4_C001H001S0001\",\n",
    "    \"dual_40_5_C001H001S0001\",\n",
    "    \"dual_40_6_C001H001S0001\"\n",
    "]\n",
    "sub_dir_list2 = [\n",
    "    \"dual_1\\\\1\\\\\",\n",
    "    \"dual_1\\\\2\\\\\",\n",
    "    \"dual_1\\\\3\\\\\",\n",
    "    \"dual_1\\\\4\\\\\",\n",
    "    \"dual_1\\\\5\\\\\",\n",
    "    \"dual_1\\\\6\\\\\",\n",
    "]"
   ],
   "metadata": {
    "collapsed": false,
    "pycharm": {
     "name": "#%%\n"
    }
   }
  },
  {
   "cell_type": "code",
   "execution_count": 8,
   "outputs": [],
   "source": [
    "p_original = np.float32([[312, 437], [640, 434], [242, 534], [678, 533], ])\n",
    "p_trans = np.float32([[800, 1100], [1320, 1100], [800, 1375], [1320, 1375]])\n",
    "M = cv2.getPerspectiveTransform(p_original, p_trans)"
   ],
   "metadata": {
    "collapsed": false,
    "pycharm": {
     "name": "#%%\n"
    }
   }
  },
  {
   "cell_type": "code",
   "execution_count": 9,
   "outputs": [],
   "source": [
    "def preprocessing_2(img):\n",
    "    img = cv2.warpPerspective(img, M, (2000, 2000))\n",
    "    _, img = cv2.threshold(img[600:1700, :], 180, 255, cv2.THRESH_BINARY)\n",
    "    retval, labels, stats, centroids = cv2.connectedComponentsWithStats(img)\n",
    "\n",
    "    return img, centroids"
   ],
   "metadata": {
    "collapsed": false,
    "pycharm": {
     "name": "#%%\n"
    }
   }
  },
  {
   "cell_type": "code",
   "execution_count": 10,
   "outputs": [
    {
     "name": "stderr",
     "output_type": "stream",
     "text": [
      "100%|██████████| 10899/10899 [05:35<00:00, 32.44it/s]\n",
      "100%|██████████| 10899/10899 [05:43<00:00, 31.75it/s]\n",
      "100%|██████████| 10899/10899 [05:56<00:00, 30.59it/s]\n",
      "100%|██████████| 10899/10899 [05:49<00:00, 31.17it/s]\n",
      "100%|██████████| 10899/10899 [05:53<00:00, 30.80it/s]\n",
      "100%|██████████| 10899/10899 [05:44<00:00, 31.60it/s]\n"
     ]
    }
   ],
   "source": [
    "for d in range(6):\n",
    "    for i in tqdm(range(1, 10900)):\n",
    "        dst, res = preprocessing_2(img=cv2.imread(IN_DIR + sub_dir_list[d] + \"\\\\\" + sub_dir_list[d] + f\"{i:06}\" + \".bmp\", 0))\n",
    "        cv2.imwrite(OUT_DIR + \"img\\\\\" + sub_dir_list2[d] + f\"{i}.png\", dst)\n",
    "        np.savetxt(OUT_DIR + \"pp\\\\\" + sub_dir_list2[d] + f\"pp_{i}.csv\", res[1:], delimiter=',')"
   ],
   "metadata": {
    "collapsed": false,
    "pycharm": {
     "name": "#%%\n"
    }
   }
  },
  {
   "cell_type": "code",
   "execution_count": 10,
   "outputs": [],
   "source": [],
   "metadata": {
    "collapsed": false,
    "pycharm": {
     "name": "#%%\n"
    }
   }
  }
 ],
 "metadata": {
  "kernelspec": {
   "display_name": "Python 3",
   "language": "python",
   "name": "python3"
  },
  "language_info": {
   "codemirror_mode": {
    "name": "ipython",
    "version": 2
   },
   "file_extension": ".py",
   "mimetype": "text/x-python",
   "name": "python",
   "nbconvert_exporter": "python",
   "pygments_lexer": "ipython2",
   "version": "2.7.6"
  }
 },
 "nbformat": 4,
 "nbformat_minor": 0
}