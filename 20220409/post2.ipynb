{
 "cells": [
  {
   "cell_type": "code",
   "execution_count": null,
   "metadata": {
    "collapsed": true,
    "pycharm": {
     "name": "#%%\n"
    }
   },
   "outputs": [],
   "source": [
    "import numpy as np\n",
    "import matplotlib.pyplot as plt\n",
    "from tqdm import tqdm\n",
    "import pandas as pd\n",
    "import pickle\n",
    "from scipy import optimize\n",
    "import sklearn.metrics as metrics"
   ]
  },
  {
   "cell_type": "code",
   "execution_count": null,
   "outputs": [],
   "source": [
    "res1_l_09 = pickle.load(open(\"result_09/light/res1.pickle\", 'rb'))\n",
    "res2_l_09 = pickle.load(open(\"result_09/light/res2.pickle\", 'rb'))\n",
    "res3_l_09 = pickle.load(open(\"result_09/light/res3.pickle\", 'rb'))\n",
    "res15_l_09 = pickle.load(open(\"result_09/light/res15.pickle\", 'rb'))\n",
    "res25_l_09 = pickle.load(open(\"result_09/light/res25.pickle\", 'rb'))\n",
    "\n",
    "res1_d_09 = pickle.load(open(\"result_09/dark/res1.pickle\", 'rb'))\n",
    "res2_d_09 = pickle.load(open(\"result_09/dark/res2.pickle\", 'rb'))\n",
    "res3_d_09 = pickle.load(open(\"result_09/dark/res3.pickle\", 'rb'))\n",
    "res15_d_09 = pickle.load(open(\"result_09/dark/res15.pickle\", 'rb'))\n",
    "res25_d_09 = pickle.load(open(\"result_09/dark/res25.pickle\", 'rb'))\n",
    "\n",
    "r_ur_ut_in_1_l_09 = pickle.load(open(\"result_09/light/r_ur_ut_in_1.pickle\", 'rb'))\n",
    "r_ur_ut_in_2_l_09 = pickle.load(open(\"result_09/light/r_ur_ut_in_2.pickle\", 'rb'))\n",
    "r_ur_ut_in_3_l_09 = pickle.load(open(\"result_09/light/r_ur_ut_in_3.pickle\", 'rb'))\n",
    "r_ur_ut_in_15_l_09 = pickle.load(open(\"result_09/light/r_ur_ut_in_15.pickle\", 'rb'))\n",
    "r_ur_ut_in_25_l_09 = pickle.load(open(\"result_09/light/r_ur_ut_in_25.pickle\", 'rb'))\n",
    "\n",
    "r_ur_ut_in_1_d_09 = pickle.load(open(\"result_09/dark/r_ur_ut_in_1.pickle\", 'rb'))\n",
    "r_ur_ut_in_2_d_09 = pickle.load(open(\"result_09/dark/r_ur_ut_in_2.pickle\", 'rb'))\n",
    "r_ur_ut_in_3_d_09 = pickle.load(open(\"result_09/dark/r_ur_ut_in_3.pickle\", 'rb'))\n",
    "r_ur_ut_in_15_d_09 = pickle.load(open(\"result_09/dark/r_ur_ut_in_15.pickle\", 'rb'))\n",
    "r_ur_ut_in_25_d_09 = pickle.load(open(\"result_09/dark/r_ur_ut_in_25.pickle\", 'rb'))\n",
    "\n",
    "r_ur_urErr_1_l_09 = pickle.load(open(\"result_09/light/r_ur_urErr_1.pickle\", 'rb'))\n",
    "r_ur_urErr_2_l_09 = pickle.load(open(\"result_09/light/r_ur_urErr_2.pickle\", 'rb'))\n",
    "r_ur_urErr_3_l_09 = pickle.load(open(\"result_09/light/r_ur_urErr_3.pickle\", 'rb'))\n",
    "r_ur_urErr_15_l_09 = pickle.load(open(\"result_09/light/r_ur_urErr_15.pickle\", 'rb'))\n",
    "r_ur_urErr_25_l_09 = pickle.load(open(\"result_09/light/r_ur_urErr_25.pickle\", 'rb'))\n",
    "\n",
    "r_ur_urErr_1_d_09 = pickle.load(open(\"result_09/dark/r_ur_urErr_1.pickle\", 'rb'))\n",
    "r_ur_urErr_2_d_09 = pickle.load(open(\"result_09/dark/r_ur_urErr_2.pickle\", 'rb'))\n",
    "r_ur_urErr_3_d_09 = pickle.load(open(\"result_09/dark/r_ur_urErr_3.pickle\", 'rb'))\n",
    "r_ur_urErr_15_d_09 = pickle.load(open(\"result_09/dark/r_ur_urErr_15.pickle\", 'rb'))\n",
    "r_ur_urErr_25_d_09 = pickle.load(open(\"result_09/dark/r_ur_urErr_25.pickle\", 'rb'))\n",
    "\n",
    "r_ut_utErr_1_l_09 = pickle.load(open(\"result_09/light/r_ut_utErr_1.pickle\", 'rb'))\n",
    "r_ut_utErr_2_l_09 = pickle.load(open(\"result_09/light/r_ut_utErr_2.pickle\", 'rb'))\n",
    "r_ut_utErr_3_l_09 = pickle.load(open(\"result_09/light/r_ut_utErr_3.pickle\", 'rb'))\n",
    "r_ut_utErr_15_l_09 = pickle.load(open(\"result_09/light/r_ut_utErr_15.pickle\", 'rb'))\n",
    "r_ut_utErr_25_l_09 = pickle.load(open(\"result_09/light/r_ut_utErr_25.pickle\", 'rb'))\n",
    "\n",
    "r_ut_utErr_1_d_09 = pickle.load(open(\"result_09/dark/r_ut_utErr_1.pickle\", 'rb'))\n",
    "r_ut_utErr_2_d_09 = pickle.load(open(\"result_09/dark/r_ut_utErr_2.pickle\", 'rb'))\n",
    "r_ut_utErr_3_d_09 = pickle.load(open(\"result_09/dark/r_ut_utErr_3.pickle\", 'rb'))\n",
    "r_ut_utErr_15_d_09 = pickle.load(open(\"result_09/dark/r_ut_utErr_15.pickle\", 'rb'))\n",
    "r_ut_utErr_25_d_09 = pickle.load(open(\"result_09/dark/r_ut_utErr_25.pickle\", 'rb'))"
   ],
   "metadata": {
    "collapsed": false,
    "pycharm": {
     "name": "#%%\n"
    }
   }
  },
  {
   "cell_type": "code",
   "execution_count": null,
   "outputs": [],
   "source": [],
   "metadata": {
    "collapsed": false,
    "pycharm": {
     "name": "#%%\n"
    }
   }
  }
 ],
 "metadata": {
  "kernelspec": {
   "display_name": "Python 3",
   "language": "python",
   "name": "python3"
  },
  "language_info": {
   "codemirror_mode": {
    "name": "ipython",
    "version": 2
   },
   "file_extension": ".py",
   "mimetype": "text/x-python",
   "name": "python",
   "nbconvert_exporter": "python",
   "pygments_lexer": "ipython2",
   "version": "2.7.6"
  }
 },
 "nbformat": 4,
 "nbformat_minor": 0
}